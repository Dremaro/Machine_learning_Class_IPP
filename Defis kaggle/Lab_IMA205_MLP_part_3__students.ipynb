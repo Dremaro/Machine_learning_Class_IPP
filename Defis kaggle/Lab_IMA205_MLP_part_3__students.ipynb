{
  "cells": [
    {
      "cell_type": "markdown",
      "metadata": {
        "id": "RIjFqlgERHAq"
      },
      "source": [
        "# IMA 205 - TP ANN (part B)\n",
        "\n",
        "## Coding a Multi-Layer Perceptron with Pytorch"
      ]
    },
    {
      "cell_type": "markdown",
      "metadata": {
        "id": "zwmOS19zRHAs"
      },
      "source": [
        "Original Author : Alasdair Newson (https://sites.google.com/site/alasdairnewson/)\n",
        "\n",
        "Adapted by Loic Le Folgoc. If you have questions, contact me at loic.lefolgoc@telecom-paris.fr"
      ]
    },
    {
      "cell_type": "markdown",
      "metadata": {
        "id": "oG_lwX5GRHAs"
      },
      "source": [
        "In this part of the lab, we will be looking at the Multi-Layer Perceptron (MLP) using Pytorch (https://pytorch.org/)\n",
        "\n",
        "We will be using the following packages :\n",
        "   \n",
        "   - Scikit-learn (http://scikit-learn.org/)\n",
        "   - Pytorch (https://pytorch.org/)\n",
        "\n",
        "### Your task:\n",
        "You need to add the missing parts in the code (generally marked by `...`)\n",
        "\n",
        "The following commands will make sure that you have all the necessary packages"
      ]
    },
    {
      "cell_type": "code",
      "execution_count": 17,
      "metadata": {
        "colab": {
          "base_uri": "https://localhost:8080/"
        },
        "id": "sCGFw05kRHAs",
        "outputId": "64fc76cf-148e-4cc2-be45-4a7fabea5cd5"
      },
      "outputs": [
        {
          "name": "stdout",
          "output_type": "stream",
          "text": [
            "2.2.2+cpu\n"
          ]
        }
      ],
      "source": [
        "%matplotlib inline\n",
        "\n",
        "import numpy as np\n",
        "import matplotlib.pyplot as plt\n",
        "import os\n",
        "import pdb\n",
        "\n",
        "import sklearn  # scikit-learn\n",
        "import torch\n",
        "\n",
        "# import pytorch modules\n",
        "import torch.nn as nn\n",
        "import torch.optim as optim\n",
        "print(torch.__version__)\n",
        "\n",
        "from torch.utils.data import TensorDataset, DataLoader\n",
        "import torch.nn.functional as F"
      ]
    },
    {
      "cell_type": "code",
      "execution_count": 18,
      "metadata": {
        "id": "IdXSgk0jcmmB"
      },
      "outputs": [],
      "source": [
        "from tqdm import tqdm"
      ]
    },
    {
      "cell_type": "markdown",
      "metadata": {
        "id": "dxgAcMrMRHAt"
      },
      "source": [
        "# 1 - Multi-Layer Perceptron with Pytorch\n",
        "\n",
        "We will replay the example in the first part of the lab, but implemented fully in Pytorch."
      ]
    },
    {
      "cell_type": "markdown",
      "metadata": {
        "id": "OjK-B5mkRHAt"
      },
      "source": [
        "## Introduction to Pytorch"
      ]
    },
    {
      "cell_type": "markdown",
      "metadata": {
        "id": "gzVmdesCRHAu"
      },
      "source": [
        "Pytorch is a library written by Meta which allows easy implementation of deep neural networks. In particular, it provides automatic differentiation so that the user does not have to determine gradients manually, which can be extremely long even for simple networks, as you have seen in the previous part.\n",
        "\n",
        "This, in turn allows a user to apply techniques such as stochastic gradient descent for training purposes. The differentiation graph is created symbolically when the network is created. Since a neural network is simply a cascade (or concatenation) of simple functions, the network in Pytorch is simply a sequence of functions which are applied to one or several variables. The output of the final function is the output of the network.\n",
        "\n",
        "For instance, if the input were ```x``` and the network consisted of two functions ```a``` and ```b```, you could create the network simply by writing :\n",
        "\n",
        "```y = b(a(x))```\n",
        "\n",
        "However, it is clear that these functions and variables must be of some special type, so that the computer can figure out how to carry out the automatic differentiation for training. Pytorch provides these functions and variables, which must be created with the Pytorch package.\n"
      ]
    },
    {
      "cell_type": "markdown",
      "metadata": {
        "id": "KP9_op3v9qOb"
      },
      "source": [
        "## Creating a network\n",
        "\n",
        "In Pytorch, to create a network, there are two (main) methods :"
      ]
    },
    {
      "cell_type": "markdown",
      "metadata": {
        "id": "8Cek-TAF_EUT"
      },
      "source": [
        "### Creating a model using the Sequential API\n",
        "\n",
        "Pytorch has a simple way of adding layers to create a neural network. This approach is generally convenient for simple models, with not many tweaks. For this, you have to use the following function :\n",
        "- ```nn.Sequential()```\n",
        "\n",
        "After this, you can add layers with the function.\n",
        "\n",
        "- ```model.add_module('module_name',your_module)```\n",
        "\n",
        "You can then use any type of ```nn.Module``` (for example ```nn.Dense``` or ```nn.ReLU```) functions to specify different layer types. __Note that adding a ```nn.Module``` to your ```nn.Sequential``` requires you to specify a name for your module. You have to specify different names for each layer. Otherwise, your layers will be overwritten.__ So, for example, if you want a network with one layer as dense layer with a relu activation, with n_out output neurons, and n_in neurons :\n",
        "\n",
        "- `model = nn.Sequential()`\n",
        "- `model.add_module('linear1',nn.Linear(n_in,n_out))`\n",
        "- `model.add_module('relu1',nn.ReLU())`\n",
        "\n",
        "<br>Otherwise, you can also write the following code that is equivalent to the above using arguments to `nn.Sequential`: `nn.Sequential(nn.Linear(n_in,n_out), nn.ReLU())`."
      ]
    },
    {
      "cell_type": "markdown",
      "metadata": {
        "id": "GrZq3EVL-w9w"
      },
      "source": [
        "### Creating a model using the standard API\n",
        "\n",
        "Otherwise, another approach (allowing more flexibility) to creating the model is to create a subclass of ```nn.Module```. Then, you can define all the necessary layers and hyper-parameters in your ```init``` function and make the forward process you want in the ```forward``` function. So, for the same example, we would have :\n",
        "\n",
        "- class Model(nn.Module):\n",
        "  - def __init__(self):\n",
        "      - super().__init__()\n",
        "      - self.l1 = nn.Linear(n_in,n_out)\n",
        "      - self.r1 = nn.ReLU()\n",
        "\n",
        "  - def forward(self, x):\n",
        "       - x = self.l1(x)\n",
        "       - x = self.r1(x)\n",
        "       - return x\n",
        "\n",
        "We will implement both the Sequential and standard API.\n",
        "\n",
        " __Note:__ You can also combine the two approaches by defining some ```nn.Sequential``` in your class ```init``` and applying them in the ```forward``` function."
      ]
    },
    {
      "cell_type": "markdown",
      "metadata": {
        "id": "eRmohPUI_heM"
      },
      "source": [
        "## Training and testing a network\n",
        "\n",
        "Pytorch allows the easy training of a network with the following objects and functions :\n",
        "\n",
        "- Optimizers: Optimizers (for example `optim.Adam()` or `optim.SGD()`) needs you to give them ```model.parameters``` as argument to let them know which weights have to be optimized. For example: `my_optimizer = optim.Adam(model.parameters())`\n",
        "\n",
        "- Losses: They can be predefined functions from Pytorch library or arbitrary functions defined by yourself, as long as they are differentiable. For example: `loss_function = nn.BCELoss()` corresponds to the binary cross entropy loss, useful for binary classification.\n",
        "\n",
        "- `outputs = model(...)` : carry out a simple forward pass on the model and returns the outputs\n",
        "\n",
        "- `loss_value = loss_function(outputs,ground_truth)` : computes the loss between outputs and ground_truth\n",
        "\n",
        "- `optimizer.zero_grad()` : Sets all gradients stored in the previous steps to zero. If you don't call this function before a gradient computation, your gradients will added (cumulatively) to the previous ones.\n",
        "\n",
        "- `loss_value.backward()` : carry out the backpropagation of gradients, populating the `node.grad` fields\n",
        "\n",
        "- `optimizer.step()`: apply the parameter update to the trainable parameters controlled by the optimizer, according to the specific class of `optimizer`"
      ]
    },
    {
      "cell_type": "markdown",
      "metadata": {
        "id": "jdGVzE6NRHAy"
      },
      "source": [
        "# Loading and formatting the data\n",
        "\n",
        "First, we load the data from sklearn. We create train and test splits."
      ]
    },
    {
      "cell_type": "code",
      "execution_count": 19,
      "metadata": {
        "colab": {
          "base_uri": "https://localhost:8080/",
          "height": 430
        },
        "id": "EfiJwuLmRHAy",
        "outputId": "1f58b93d-038c-467b-a864-07438e732bd8"
      },
      "outputs": [
        {
          "name": "stdout",
          "output_type": "stream",
          "text": [
            "<class 'numpy.ndarray'> (1000, 2)\n",
            "<class 'numpy.ndarray'> (2,)\n",
            "<class 'numpy.float64'>\n"
          ]
        },
        {
          "data": {
            "image/png": "[encoded data removed]",
            "text/plain": [
              "<Figure size 640x480 with 1 Axes>"
            ]
          },
          "metadata": {},
          "output_type": "display_data"
        }
      ],
      "source": [
        "from sklearn import datasets\n",
        "from sklearn.preprocessing import MinMaxScaler\n",
        "from sklearn.model_selection import train_test_split\n",
        "\n",
        "# Create data\n",
        "X, Y = datasets.make_circles(n_samples=1000, noise=0.05, factor=0.5)\n",
        "print(type(X), X.shape)\n",
        "print(type(X[0]), X[0].shape) \n",
        "print(type(X[0,0]))\n",
        "\n",
        "# X, Y = datasets.make_moons(n_samples=1000, random_state=42)  # try with 2 moons\n",
        "\n",
        "\n",
        "# Normalize the data. If we were doing things by the textbook, we would need to fit the\n",
        "# MinMaxScaler on the training data X_train only, then apply it to both training and\n",
        "# test data X_train and X_test:\n",
        "X = MinMaxScaler().fit_transform(X)\n",
        "\n",
        "# Show data in plot\n",
        "plt.plot(X[Y == 1, 0], X[Y == 1, 1], 'ro')\n",
        "plt.plot(X[Y == 0, 0], X[Y == 0, 1], 'bo')\n",
        "plt.grid('on')"
      ]
    },
    {
      "cell_type": "code",
      "execution_count": 20,
      "metadata": {
        "colab": {
          "base_uri": "https://localhost:8080/"
        },
        "id": "UiWKKa0yFZWK",
        "outputId": "15088d3b-8611-4df9-9777-adbb02ecede9"
      },
      "outputs": [
        {
          "name": "stdout",
          "output_type": "stream",
          "text": [
            "Training set shape: (850, 2)\n",
            "Test set shape: (150, 2)\n"
          ]
        }
      ],
      "source": [
        "# We split up the data into training and test data, using a function from\n",
        "# Scikit-learn :\n",
        "X_train, X_test, Y_train, Y_test = train_test_split(X, Y, test_size=0.15)\n",
        "print('Training set shape: {}'.format(X_train.shape))\n",
        "print('Test set shape: {}'.format(X_test.shape))"
      ]
    },
    {
      "cell_type": "markdown",
      "metadata": {
        "id": "TB8TL_RkGT0W"
      },
      "source": [
        "Finally, we need to create `torch.utils.data.Dataset` objects from these numpy datasets. These datasets are Pytorch objects, which typically implement a `get_item(i)` method which manages the retrieval of the i-th item in the dataset, and return it as a torch `Tensor` object (or tuple thereof).\n",
        "\n",
        "A useful subclass for us is `TensorDataset`, which does the magic under the hood for us for this simple case where we have data points and labels already available:"
      ]
    },
    {
      "cell_type": "code",
      "execution_count": 21,
      "metadata": {
        "id": "rWlztVTpHQIg"
      },
      "outputs": [],
      "source": [
        "training_dataset = TensorDataset(torch.tensor(X_train).float(),torch.unsqueeze(torch.tensor(Y_train),-1).float()) # Creates a pytorch Dataset object\n",
        "test_dataset = TensorDataset(torch.tensor(X_test).float(),torch.unsqueeze(torch.tensor(Y_test),-1).float()) # Creates a pytorch Dataset object\n",
        "# so the wall purpose of a dataset is the get_item(i) method, which returns the i-th element of the dataset as a torch tensor\n",
        "# such dataset are just much easier to manipulate, we'll see why later "
      ]
    },
    {
      "cell_type": "markdown",
      "metadata": {
        "id": "xL49V1-ZcEmv"
      },
      "source": [
        "# Device"
      ]
    },
    {
      "cell_type": "markdown",
      "metadata": {
        "id": "alSxFclWHtqQ"
      },
      "source": [
        "We will use the GPU if it is available on your machine, otherwise the CPU. We do so by putting the model and data on the active device with `.to(device)`. GPU training is 6-10x faster here."
      ]
    },
    {
      "cell_type": "code",
      "execution_count": 22,
      "metadata": {
        "colab": {
          "base_uri": "https://localhost:8080/"
        },
        "id": "uQBUStSFHxf0",
        "outputId": "866b7dfa-1691-45c5-c88e-3191a636d212"
      },
      "outputs": [
        {
          "name": "stdout",
          "output_type": "stream",
          "text": [
            "cpu\n"
          ]
        }
      ],
      "source": [
        "device = torch.device(\"cuda:0\" if torch.cuda.is_available() else \"cpu\")\n",
        "print(device)"
      ]
    },
    {
      "cell_type": "markdown",
      "metadata": {
        "id": "5Nzll2FYIAAV"
      },
      "source": [
        "# Creating the MLP with Pytorch : Architecture\n",
        "\n",
        "We are now going to create an MLP with pytorch. We will start with an MLP with one hidden layer, similar to part 1 of the lab. The network should consist of the following operations, in the following order :\n",
        "\n",
        "- Fully connected layer (with biases), mapping the input data (2D) to `n_hidden` neurons, using `nn.Linear(...)`\n",
        "- ReLU activation, using `nn.ReLu()`\n",
        "- Fully connected layer (with biases), mapping the hidden layer to the output layer with 1 neuron\n",
        "- Sigmoid output activation, using `nn.Sigmoid()`\n",
        "\n",
        "We are going to be solving a binary classification problem, so the output of the network should be a scalar between 0 and 1 (thus the last Sigmoid activation function)."
      ]
    },
    {
      "cell_type": "code",
      "execution_count": 23,
      "metadata": {
        "id": "-3gutpVjI6u8"
      },
      "outputs": [],
      "source": [
        "# Parameters:\n",
        "n_input = 2\n",
        "n_hidden = 50\n",
        "n_output = 1"
      ]
    },
    {
      "cell_type": "code",
      "execution_count": 24,
      "metadata": {
        "id": "7rkEEYJwJOcI"
      },
      "outputs": [],
      "source": [
        "# TO COMPLETE:\n",
        "\n",
        "class MLP(nn.Module):\n",
        "\n",
        "  def __init__(self, n_input, n_hidden, n_output):\n",
        "    super().__init__()\n",
        "\n",
        "    # We can only define the linear/dense layers here, and call the functional versions\n",
        "    # of ReLu and Sigmoid, F.relu() and torch.sigmoid(), directly in the forward\n",
        "    self.linear1 = nn.Linear(n_input,n_hidden)\n",
        "    self.linear2 = nn.Linear(n_hidden,n_output)\n",
        "    self.r1 = nn.ReLU()\n",
        "    self.s1 = nn.Sigmoid()\n",
        "\n",
        "  def forward(self, x):\n",
        "    # Code the chain of operations to produce the output y from x\n",
        "    x1 = self.r1(self.linear1(x))\n",
        "    y = self.s1(self.linear2(x1))\n",
        "\n",
        "    return y"
      ]
    },
    {
      "cell_type": "markdown",
      "metadata": {
        "id": "jYCeKG9m0EB-"
      },
      "source": [
        "Implement, train and test both the sequential and standard APIs below (switch sequential to `False` and run the code blocks below to test the standard API):"
      ]
    },
    {
      "cell_type": "code",
      "execution_count": 25,
      "metadata": {
        "id": "HYJKJ3kmJHD-"
      },
      "outputs": [],
      "source": [
        "sequential = False\n",
        "\n",
        "if sequential:\n",
        "  # Sequential API:\n",
        "  model = nn.Sequential()\n",
        "  model.add_module('linear1', nn.Linear(n_input,n_hidden))\n",
        "  model.add_module('relu1', nn.ReLU())\n",
        "  model.add_module('linear2', nn.Linear(n_hidden,n_output))\n",
        "  model.add_module('sigmoid1', nn.Sigmoid())\n",
        "else:\n",
        "  # Standard API\n",
        "  model = MLP(n_input, n_hidden, n_output)"
      ]
    },
    {
      "cell_type": "code",
      "execution_count": 26,
      "metadata": {
        "id": "cSI9511bcOgk"
      },
      "outputs": [],
      "source": [
        "model = model.to(device)"
      ]
    },
    {
      "cell_type": "markdown",
      "metadata": {
        "id": "aQEqrJUUWOgE"
      },
      "source": [
        "# Training the model"
      ]
    },
    {
      "cell_type": "markdown",
      "metadata": {
        "id": "L-ZpEhceWUC_"
      },
      "source": [
        "We are now going to train the model itself. First, we need to define model parameters (batch size, number of epochs, etc.). Then we will define the loss, the optimizer and start the training."
      ]
    },
    {
      "cell_type": "code",
      "execution_count": 27,
      "metadata": {
        "id": "7hWOYHMRWjDZ"
      },
      "outputs": [],
      "source": [
        "learning_rate = 0.01\n",
        "n_epochs = 30\n",
        "batch_size = 64"
      ]
    },
    {
      "cell_type": "markdown",
      "metadata": {
        "id": "CLAFurxsWt0_"
      },
      "source": [
        "We will use the binary cross entropy loss from Pytorch. For now, we instantiate an `nn.BCELoss()` object. We will call it during the training on specific outputs $\\hat{y}$ and ground truth values $y$.\n",
        "\n",
        "Use the argument `reduction='sum'` for compatibility with my code below (it corresponds to one of several possible ways to aggregate the individual losses from individual data points).\n",
        "- 'none': no reduction will be applied, the loss function will return a loss value for each element in the input.\n",
        "- 'mean': the losses will be averaged, this is typically used in most cases.\n",
        "- 'sum': the losses will be summed up."
      ]
    },
    {
      "cell_type": "code",
      "execution_count": 28,
      "metadata": {
        "id": "Y2zvR0APXJH1"
      },
      "outputs": [],
      "source": [
        "criterion = nn.BCELoss(reduction='sum')"
      ]
    },
    {
      "cell_type": "markdown",
      "metadata": {
        "id": "wZFt1jJyXTRW"
      },
      "source": [
        "We now define the optimizer. We use the Adam optimizer from `optim.Adam`, passing `model.parameters()` as trainable parameters and setting the learning rate to `learning_rate`:"
      ]
    },
    {
      "cell_type": "code",
      "execution_count": 29,
      "metadata": {
        "id": "T-WN76AKXvBo"
      },
      "outputs": [],
      "source": [
        "optimizer = optim.Adam(model.parameters(), lr = learning_rate)"
      ]
    },
    {
      "cell_type": "markdown",
      "metadata": {
        "id": "Vej1l1ulX0FX"
      },
      "source": [
        "Finally, we need to define a `DataLoader`. It takes as input the torch dataset, the batch size, and a number of optional arguments. The dataloader is responsible for creating minibatches for the training (and/or for the inference/test-time).\n",
        "\n",
        "It is a highly customizable process that relies on a `sampler`. The default sampler (when you do not specify a particular sampler) just samples data points uniformly at random from the full batch to create the minibatch. This default behaviour is very often good enough. We do not worry about this for today and rely on this default behaviour."
      ]
    },
    {
      "cell_type": "code",
      "execution_count": 30,
      "metadata": {
        "id": "JEI-aX4NZAeG"
      },
      "outputs": [],
      "source": [
        "training_loader = DataLoader(training_dataset, batch_size=batch_size, shuffle=True, drop_last=False) # apparently this modifies the dataset to create minibatches inside of it.\n",
        "test_loader     = DataLoader(test_dataset, batch_size=batch_size, shuffle=False, drop_last=False)"
      ]
    },
    {
      "cell_type": "markdown",
      "metadata": {
        "id": "Zzdm4J5kZbqv"
      },
      "source": [
        "We can now move on to the main training loop. It iterates over the dataset for a number of epochs. Each epoch involves a number of iterations: at each iteration, a minibatch is processed and the iteration culminates in a parameter update."
      ]
    },
    {
      "cell_type": "code",
      "execution_count": 31,
      "metadata": {
        "id": "V3-jQUZEaGFT"
      },
      "outputs": [],
      "source": [
        "# Helper function: we monitor the accuracy during the training\n",
        "def prediction_accuracy(predict,labels):\n",
        "  accuracy = (predict == labels).sum()/(labels.shape[0])\n",
        "  return accuracy"
      ]
    },
    {
      "cell_type": "code",
      "execution_count": 32,
      "metadata": {
        "colab": {
          "base_uri": "https://localhost:8080/",
          "height": 234
        },
        "id": "qMA97VHLZ1Z6",
        "outputId": "11b95ffd-8b90-4298-a731-53b90fda3613"
      },
      "outputs": [
        {
          "name": "stderr",
          "output_type": "stream",
          "text": [
            "Epoch 0: 100%|██████████| 14/14 [00:00<00:00, 287.78batch/s]\n"
          ]
        },
        {
          "name": "stdout",
          "output_type": "stream",
          "text": [
            "Epoch 0: Train Loss: 0.6900\n",
            "Epoch 0: Train Accuracy: 0.5118\n"
          ]
        },
        {
          "name": "stderr",
          "output_type": "stream",
          "text": [
            "Epoch 1: 100%|██████████| 14/14 [00:00<00:00, 381.76batch/s]\n"
          ]
        },
        {
          "name": "stdout",
          "output_type": "stream",
          "text": [
            "Epoch 1: Train Loss: 0.6752\n",
            "Epoch 1: Train Accuracy: 0.7012\n"
          ]
        },
        {
          "name": "stderr",
          "output_type": "stream",
          "text": [
            "Epoch 2: 100%|██████████| 14/14 [00:00<00:00, 417.16batch/s]\n"
          ]
        },
        {
          "name": "stdout",
          "output_type": "stream",
          "text": [
            "Epoch 2: Train Loss: 0.6615\n",
            "Epoch 2: Train Accuracy: 0.7294\n"
          ]
        },
        {
          "name": "stderr",
          "output_type": "stream",
          "text": [
            "Epoch 3: 100%|██████████| 14/14 [00:00<00:00, 399.44batch/s]\n"
          ]
        },
        {
          "name": "stdout",
          "output_type": "stream",
          "text": [
            "Epoch 3: Train Loss: 0.6446\n",
            "Epoch 3: Train Accuracy: 0.7835\n"
          ]
        },
        {
          "name": "stderr",
          "output_type": "stream",
          "text": [
            "Epoch 4: 100%|██████████| 14/14 [00:00<00:00, 372.82batch/s]\n"
          ]
        },
        {
          "name": "stdout",
          "output_type": "stream",
          "text": [
            "Epoch 4: Train Loss: 0.6280\n",
            "Epoch 4: Train Accuracy: 0.7294\n"
          ]
        },
        {
          "name": "stderr",
          "output_type": "stream",
          "text": [
            "Epoch 5: 100%|██████████| 14/14 [00:00<00:00, 361.42batch/s]\n"
          ]
        },
        {
          "name": "stdout",
          "output_type": "stream",
          "text": [
            "Epoch 5: Train Loss: 0.6032\n",
            "Epoch 5: Train Accuracy: 0.7553\n"
          ]
        },
        {
          "name": "stderr",
          "output_type": "stream",
          "text": [
            "Epoch 6: 100%|██████████| 14/14 [00:00<00:00, 356.58batch/s]\n"
          ]
        },
        {
          "name": "stdout",
          "output_type": "stream",
          "text": [
            "Epoch 6: Train Loss: 0.5790\n",
            "Epoch 6: Train Accuracy: 0.8412\n"
          ]
        },
        {
          "name": "stderr",
          "output_type": "stream",
          "text": [
            "Epoch 7: 100%|██████████| 14/14 [00:00<00:00, 372.82batch/s]\n"
          ]
        },
        {
          "name": "stdout",
          "output_type": "stream",
          "text": [
            "Epoch 7: Train Loss: 0.5484\n",
            "Epoch 7: Train Accuracy: 0.8612\n"
          ]
        },
        {
          "name": "stderr",
          "output_type": "stream",
          "text": [
            "Epoch 8: 100%|██████████| 14/14 [00:00<00:00, 356.41batch/s]\n"
          ]
        },
        {
          "name": "stdout",
          "output_type": "stream",
          "text": [
            "Epoch 8: Train Loss: 0.5135\n",
            "Epoch 8: Train Accuracy: 0.9059\n"
          ]
        },
        {
          "name": "stderr",
          "output_type": "stream",
          "text": [
            "Epoch 9: 100%|██████████| 14/14 [00:00<00:00, 343.82batch/s]\n"
          ]
        },
        {
          "name": "stdout",
          "output_type": "stream",
          "text": [
            "Epoch 9: Train Loss: 0.4776\n",
            "Epoch 9: Train Accuracy: 0.9471\n"
          ]
        },
        {
          "name": "stderr",
          "output_type": "stream",
          "text": [
            "Epoch 10: 100%|██████████| 14/14 [00:00<00:00, 355.17batch/s]\n"
          ]
        },
        {
          "name": "stdout",
          "output_type": "stream",
          "text": [
            "Epoch 10: Train Loss: 0.4426\n",
            "Epoch 10: Train Accuracy: 0.9506\n"
          ]
        },
        {
          "name": "stderr",
          "output_type": "stream",
          "text": [
            "Epoch 11: 100%|██████████| 14/14 [00:00<00:00, 365.67batch/s]\n"
          ]
        },
        {
          "name": "stdout",
          "output_type": "stream",
          "text": [
            "Epoch 11: Train Loss: 0.4003\n",
            "Epoch 11: Train Accuracy: 0.9729\n"
          ]
        },
        {
          "name": "stderr",
          "output_type": "stream",
          "text": [
            "Epoch 12: 100%|██████████| 14/14 [00:00<00:00, 370.36batch/s]\n"
          ]
        },
        {
          "name": "stdout",
          "output_type": "stream",
          "text": [
            "Epoch 12: Train Loss: 0.3693\n",
            "Epoch 12: Train Accuracy: 0.9718\n"
          ]
        },
        {
          "name": "stderr",
          "output_type": "stream",
          "text": [
            "Epoch 13: 100%|██████████| 14/14 [00:00<00:00, 372.68batch/s]\n"
          ]
        },
        {
          "name": "stdout",
          "output_type": "stream",
          "text": [
            "Epoch 13: Train Loss: 0.3249\n",
            "Epoch 13: Train Accuracy: 0.9918\n"
          ]
        },
        {
          "name": "stderr",
          "output_type": "stream",
          "text": [
            "Epoch 14: 100%|██████████| 14/14 [00:00<00:00, 376.61batch/s]\n"
          ]
        },
        {
          "name": "stdout",
          "output_type": "stream",
          "text": [
            "Epoch 14: Train Loss: 0.2979\n",
            "Epoch 14: Train Accuracy: 0.9871\n"
          ]
        },
        {
          "name": "stderr",
          "output_type": "stream",
          "text": [
            "Epoch 15: 100%|██████████| 14/14 [00:00<00:00, 352.40batch/s]\n"
          ]
        },
        {
          "name": "stdout",
          "output_type": "stream",
          "text": [
            "Epoch 15: Train Loss: 0.2631\n",
            "Epoch 15: Train Accuracy: 1.0000\n"
          ]
        },
        {
          "name": "stderr",
          "output_type": "stream",
          "text": [
            "Epoch 16: 100%|██████████| 14/14 [00:00<00:00, 378.79batch/s]\n"
          ]
        },
        {
          "name": "stdout",
          "output_type": "stream",
          "text": [
            "Epoch 16: Train Loss: 0.2377\n",
            "Epoch 16: Train Accuracy: 1.0000\n"
          ]
        },
        {
          "name": "stderr",
          "output_type": "stream",
          "text": [
            "Epoch 17: 100%|██████████| 14/14 [00:00<00:00, 376.67batch/s]\n"
          ]
        },
        {
          "name": "stdout",
          "output_type": "stream",
          "text": [
            "Epoch 17: Train Loss: 0.2147\n",
            "Epoch 17: Train Accuracy: 1.0000\n"
          ]
        },
        {
          "name": "stderr",
          "output_type": "stream",
          "text": [
            "Epoch 18: 100%|██████████| 14/14 [00:00<00:00, 359.37batch/s]\n"
          ]
        },
        {
          "name": "stdout",
          "output_type": "stream",
          "text": [
            "Epoch 18: Train Loss: 0.1912\n",
            "Epoch 18: Train Accuracy: 1.0000\n"
          ]
        },
        {
          "name": "stderr",
          "output_type": "stream",
          "text": [
            "Epoch 19: 100%|██████████| 14/14 [00:00<00:00, 368.15batch/s]\n"
          ]
        },
        {
          "name": "stdout",
          "output_type": "stream",
          "text": [
            "Epoch 19: Train Loss: 0.1744\n",
            "Epoch 19: Train Accuracy: 1.0000\n"
          ]
        },
        {
          "name": "stderr",
          "output_type": "stream",
          "text": [
            "Epoch 20: 100%|██████████| 14/14 [00:00<00:00, 345.17batch/s]\n"
          ]
        },
        {
          "name": "stdout",
          "output_type": "stream",
          "text": [
            "Epoch 20: Train Loss: 0.1588\n",
            "Epoch 20: Train Accuracy: 1.0000\n"
          ]
        },
        {
          "name": "stderr",
          "output_type": "stream",
          "text": [
            "Epoch 21: 100%|██████████| 14/14 [00:00<00:00, 395.33batch/s]\n"
          ]
        },
        {
          "name": "stdout",
          "output_type": "stream",
          "text": [
            "Epoch 21: Train Loss: 0.1446\n",
            "Epoch 21: Train Accuracy: 1.0000\n"
          ]
        },
        {
          "name": "stderr",
          "output_type": "stream",
          "text": [
            "Epoch 22: 100%|██████████| 14/14 [00:00<00:00, 389.45batch/s]\n"
          ]
        },
        {
          "name": "stdout",
          "output_type": "stream",
          "text": [
            "Epoch 22: Train Loss: 0.1327\n",
            "Epoch 22: Train Accuracy: 1.0000\n"
          ]
        },
        {
          "name": "stderr",
          "output_type": "stream",
          "text": [
            "Epoch 23: 100%|██████████| 14/14 [00:00<00:00, 371.75batch/s]\n"
          ]
        },
        {
          "name": "stdout",
          "output_type": "stream",
          "text": [
            "Epoch 23: Train Loss: 0.1207\n",
            "Epoch 23: Train Accuracy: 1.0000\n"
          ]
        },
        {
          "name": "stderr",
          "output_type": "stream",
          "text": [
            "Epoch 24: 100%|██████████| 14/14 [00:00<00:00, 361.47batch/s]\n"
          ]
        },
        {
          "name": "stdout",
          "output_type": "stream",
          "text": [
            "Epoch 24: Train Loss: 0.1103\n",
            "Epoch 24: Train Accuracy: 1.0000\n"
          ]
        },
        {
          "name": "stderr",
          "output_type": "stream",
          "text": [
            "Epoch 25: 100%|██████████| 14/14 [00:00<00:00, 370.60batch/s]\n"
          ]
        },
        {
          "name": "stdout",
          "output_type": "stream",
          "text": [
            "Epoch 25: Train Loss: 0.1023\n",
            "Epoch 25: Train Accuracy: 1.0000\n"
          ]
        },
        {
          "name": "stderr",
          "output_type": "stream",
          "text": [
            "Epoch 26: 100%|██████████| 14/14 [00:00<00:00, 360.84batch/s]\n"
          ]
        },
        {
          "name": "stdout",
          "output_type": "stream",
          "text": [
            "Epoch 26: Train Loss: 0.0937\n",
            "Epoch 26: Train Accuracy: 1.0000\n"
          ]
        },
        {
          "name": "stderr",
          "output_type": "stream",
          "text": [
            "Epoch 27: 100%|██████████| 14/14 [00:00<00:00, 333.94batch/s]\n"
          ]
        },
        {
          "name": "stdout",
          "output_type": "stream",
          "text": [
            "Epoch 27: Train Loss: 0.0880\n",
            "Epoch 27: Train Accuracy: 1.0000\n"
          ]
        },
        {
          "name": "stderr",
          "output_type": "stream",
          "text": [
            "Epoch 28: 100%|██████████| 14/14 [00:00<00:00, 360.46batch/s]\n"
          ]
        },
        {
          "name": "stdout",
          "output_type": "stream",
          "text": [
            "Epoch 28: Train Loss: 0.0811\n",
            "Epoch 28: Train Accuracy: 1.0000\n"
          ]
        },
        {
          "name": "stderr",
          "output_type": "stream",
          "text": [
            "Epoch 29: 100%|██████████| 14/14 [00:00<00:00, 321.24batch/s]"
          ]
        },
        {
          "name": "stdout",
          "output_type": "stream",
          "text": [
            "Epoch 29: Train Loss: 0.0787\n",
            "Epoch 29: Train Accuracy: 1.0000\n"
          ]
        },
        {
          "name": "stderr",
          "output_type": "stream",
          "text": [
            "\n"
          ]
        }
      ],
      "source": [
        "model.train() # put model in training mode (required as some layers, for instance dropout, have different behavior in training and evaluation mode)\n",
        "\n",
        "for epoch in range(0,n_epochs): # n_epochs is the number of training iterations\n",
        "  # Initialize the loss storage to plot it later\n",
        "  train_loss=0.0\n",
        "  all_labels = []\n",
        "  all_predicted = []\n",
        "\n",
        "  with tqdm(training_loader, unit=\"batch\") as tepoch: # tepoch is the variable that hold each batch of data as we iterate over training_loader\n",
        "    for data, labels in tepoch:\n",
        "      tepoch.set_description(f\"Epoch {epoch}\")\n",
        "\n",
        "      # Put the data on device\n",
        "      data = data.to(device)\n",
        "      labels = labels.to(device)\n",
        "\n",
        "      # BEGIN STUDENT CODE: forward and backward passes\n",
        "\n",
        "      # 1. Do the forward pass : \n",
        "      y_predict = model(data)  # performs the forward pass, which computes the predicted outputs by passing inputs to the model.\n",
        "      # it gets better and better as the training goes on\n",
        "\n",
        "      # 2. Compute the loss : criterion = nn.BCELoss(reduction='sum')\n",
        "      loss = criterion(y_predict, labels)  # computes the loss between the predicted and actual labels. And then do the sum I guess\n",
        "\n",
        "      # 3. Reset gradients to 0 : optimizer = optim.Adam(model.parameters(), lr = learning_rate)\n",
        "      optimizer.zero_grad() # resets the gradients to zero before starting to do backprojections because PyTorch accumulates the gradients on subsequent backward passes.\n",
        "\n",
        "      # 4. Do the backward pass : \n",
        "      loss.backward() # computes the derivative of the loss % to parameters (or anything requiring gradients) using backpropagation.\n",
        "\n",
        "      # 5. Call the parameter update\n",
        "      optimizer.step() # causes the optimizer to take a step based on the gradients of the parameters.\n",
        "\n",
        "      # END STUDENT CODE\n",
        "\n",
        "      # Compute the loss\n",
        "      train_loss += loss.item()\n",
        "      # Store labels and class predictions\n",
        "      all_labels.extend(labels.tolist())\n",
        "      all_predicted.extend((y_predict>=0.5).tolist())\n",
        "\n",
        "  print('Epoch {}: Train Loss: {:.4f}'.format(epoch, train_loss/len(training_loader.dataset)))\n",
        "  print('Epoch {}: Train Accuracy: {:.4f}'.format(epoch, prediction_accuracy(np.array(all_predicted),np.array(all_labels))))"
      ]
    },
    {
      "cell_type": "markdown",
      "metadata": {
        "id": "7yPmATYdeJnP"
      },
      "source": [
        "# Testing the model"
      ]
    },
    {
      "cell_type": "markdown",
      "metadata": {
        "id": "JT8lH75VeAKA"
      },
      "source": [
        "Let us now visualize the decision function and compute the test accuracy for the model."
      ]
    },
    {
      "cell_type": "code",
      "execution_count": 18,
      "metadata": {
        "colab": {
          "base_uri": "https://localhost:8080/"
        },
        "id": "2NSC5AmIeQWf",
        "outputId": "6c315610-209b-4e11-8468-286137529dfe"
      },
      "outputs": [
        {
          "name": "stderr",
          "output_type": "stream",
          "text": [
            "100%|██████████| 3/3 [00:00<00:00, 996.51batch/s]"
          ]
        },
        {
          "name": "stdout",
          "output_type": "stream",
          "text": [
            "\n",
            "Test Accuracy: 1.0\n"
          ]
        },
        {
          "name": "stderr",
          "output_type": "stream",
          "text": [
            "\n"
          ]
        }
      ],
      "source": [
        "model.eval()\n",
        "\n",
        "all_predicted = []\n",
        "all_labels = []\n",
        "\n",
        "with tqdm(test_loader, unit=\"batch\") as tepoch:\n",
        "  for data, labels in tepoch:\n",
        "    all_labels.extend(labels.tolist())\n",
        "\n",
        "    data = data.to(device)\n",
        "    y_predict = model(data)\n",
        "    all_predicted.extend((y_predict>=0.5).tolist())\n",
        "\n",
        "test_accuracy = prediction_accuracy(np.array(all_predicted),np.array(all_labels))\n",
        "\n",
        "print(\"\\nTest Accuracy:\", test_accuracy)"
      ]
    },
    {
      "cell_type": "markdown",
      "metadata": {
        "id": "cRL1c6UyRHAy"
      },
      "source": [
        "Here is a function that shows the decision boundary of our network. This works only for 2D input data:"
      ]
    },
    {
      "cell_type": "code",
      "execution_count": 19,
      "metadata": {
        "id": "x0cUhY8xRHAz"
      },
      "outputs": [],
      "source": [
        "# THIS CODE IS GIVEN:\n",
        "\n",
        "def plot_decision_function_2d(model, X, Y):\n",
        "   # create a mesh to plot in\n",
        "    h = .02  # step size in the mesh\n",
        "    offset = 0.1\n",
        "    x_min, x_max = X[:, 0].min() - offset, X[:, 0].max() + offset\n",
        "    y_min, y_max = X[:, 1].min() - offset, X[:, 1].max() + offset\n",
        "    xx, yy = np.meshgrid(np.arange(x_min, x_max, h),\n",
        "                         np.arange(y_min, y_max, h))\n",
        "\n",
        "    # Plot the decision boundary. For that, we will assign a color to each\n",
        "    # point in the mesh [x_min, x_max]x[y_min, y_max].\n",
        "    Z = model(torch.tensor(np.c_[xx.ravel(), yy.ravel()]).float().to(device)).detach().cpu().numpy()\n",
        "    Z = Z<0.5\n",
        "\n",
        "    # Put the result into a color plot\n",
        "    Z = Z.reshape(xx.shape)\n",
        "    plt.figure()\n",
        "    plt.contourf(xx, yy, Z, cmap=plt.cm.Paired)\n",
        "\n",
        "    plt.plot(X[Y == 1, 0], X[Y == 1, 1], 'yo')\n",
        "    plt.plot(X[Y == 0, 0], X[Y == 0, 1], 'ko')\n",
        "\n",
        "    plt.title(\"Decision surface\")\n",
        "    plt.axis('tight')"
      ]
    },
    {
      "cell_type": "code",
      "execution_count": 20,
      "metadata": {
        "colab": {
          "base_uri": "https://localhost:8080/",
          "height": 452
        },
        "id": "ISBvER62gG-J",
        "outputId": "54654276-2cdf-44ed-fad5-d6b74b5bdc07"
      },
      "outputs": [
        {
          "data": {
            "image/png": "[encoded data removed]",
            "text/plain": [
              "<Figure size 640x480 with 1 Axes>"
            ]
          },
          "metadata": {},
          "output_type": "display_data"
        }
      ],
      "source": [
        "plot_decision_function_2d(model, X_test, Y_test)"
      ]
    },
    {
      "cell_type": "markdown",
      "metadata": {
        "id": "6oni6Q5vRHA0"
      },
      "source": [
        "# 2 - MLP with several hidden layers, on MNIST\n",
        "\n",
        "We are now going to create an MLP with several hidden layers. We are going to use a more complicated dataset : the MNIST dataset, which contains images of handwritten digits. There are 10 classes, one for each digit.\n",
        "\n",
        "We are going to implement the following architecture :\n",
        "\n",
        "- Fully connected layer, mapping from `n_input` to `n_hidden_1` neurons\n",
        "- Relu activation\n",
        "- Fully connected layer, mapping from `n_hidden_1` to `n_hidden_2` neurons\n",
        "- Relu activation\n",
        "- Fully connected layer, mapping from `n_hidden_2` to `n_hidden_3` neurons\n",
        "- Relu activation\n",
        "- Fully connected layer, mapping from `n_hidden_3` to `n_output` (=10) neurons\n",
        "\n",
        "__IMPORTANT Note__ The sigmoid layer has been removed. Ideally, we should have replaced it by a softmax layer (at the end) since we have a multi-class problem. However, this softmax activation is already present in the loss ```nn.CrossEntropyLoss()```. This is why we don't have to put one here. The unnormalized outputs before this softmax are called logits. Hence, the network outputs logits."
      ]
    },
    {
      "cell_type": "markdown",
      "metadata": {
        "id": "YdtKVj75hdGX"
      },
      "source": [
        "First, we load the MNIST dataset."
      ]
    },
    {
      "cell_type": "code",
      "execution_count": 50,
      "metadata": {
        "colab": {
          "base_uri": "https://localhost:8080/"
        },
        "id": "Z0cGLMKRRHA0",
        "outputId": "55e70bc2-dfd6-4406-b871-65bd7141bb17"
      },
      "outputs": [
        {
          "name": "stdout",
          "output_type": "stream",
          "text": [
            "<class 'torchvision.datasets.mnist.MNIST'>\n",
            "<class 'tuple'>\n",
            "Dataset MNIST\n",
            "    Number of datapoints: 60000\n",
            "    Root location: ./data\n",
            "    Split: Train\n",
            "    StandardTransform\n",
            "Transform: Compose(\n",
            "               ToTensor()\n",
            "               Normalize(mean=[0.5], std=[0.5])\n",
            "               <function <lambda> at 0x0000012C659482C0>\n",
            "               <function <lambda> at 0x0000012C6594B060>\n",
            "           )\n",
            "Dataset MNIST\n",
            "    Number of datapoints: 10000\n",
            "    Root location: ./data\n",
            "    Split: Test\n",
            "    StandardTransform\n",
            "Transform: Compose(\n",
            "               ToTensor()\n",
            "               Normalize(mean=[0.5], std=[0.5])\n",
            "               <function <lambda> at 0x0000012C659482C0>\n",
            "               <function <lambda> at 0x0000012C6594B060>\n",
            "           )\n"
          ]
        }
      ],
      "source": [
        "# Import MNIST data\n",
        "import torchvision\n",
        "import torchvision.transforms as transforms\n",
        "\n",
        "transform = transforms.Compose(\n",
        "    [transforms.ToTensor(),\n",
        "     transforms.Normalize([0.5], [0.5]),\n",
        "     lambda x: torch.flatten(x),\n",
        "     lambda x: x.float()]) # flatten the last two dimensions of the images\n",
        "\n",
        "trainset = torchvision.datasets.MNIST(root='./data', train=True, download=True, transform=transform)\n",
        "testset = torchvision.datasets.MNIST(root='./data', train=False, download=True, transform=transform)\n",
        "print(type(trainset))\n",
        "print(type(trainset[0]))\n",
        "print(\"\")\n",
        "print(trainset)\n",
        "print(\"\")\n",
        "print(testset)\n",
        "\n"
      ]
    },
    {
      "cell_type": "markdown",
      "metadata": {
        "id": "mCS01zvIick4"
      },
      "source": [
        "Note that here, we have defined transforms and passed them as argument when creating the dataset. These transforms will be called systematically in the `get_item` method implemented in the dataset, modifying each image before returning it. Here we use this tool to format and normalize input images.\n",
        "\n",
        "The same process could be used to apply random augmentations to the input images (for data augmentations), by composing with functions that apply random transforms."
      ]
    },
    {
      "cell_type": "code",
      "execution_count": 34,
      "metadata": {
        "colab": {
          "base_uri": "https://localhost:8080/"
        },
        "id": "HA1zJE30jlMh",
        "outputId": "eeeb6191-39b6-400d-f352-fed6d4155f50"
      },
      "outputs": [
        {
          "name": "stdout",
          "output_type": "stream",
          "text": [
            "cpu\n"
          ]
        }
      ],
      "source": [
        "device = torch.device(\"cuda:0\" if torch.cuda.is_available() else \"cpu\")\n",
        "print(device)"
      ]
    },
    {
      "cell_type": "markdown",
      "metadata": {
        "id": "EzMV_9-NRHA1"
      },
      "source": [
        "MLP architecture, via sequential API:"
      ]
    },
    {
      "cell_type": "code",
      "execution_count": 35,
      "metadata": {
        "id": "pvXuuDqkjrmK"
      },
      "outputs": [],
      "source": [
        "n_hidden_1 = 256 # 1st layer number of neurons\n",
        "n_hidden_2 = 256 # 2nd layer number of neurons\n",
        "n_hidden_3 = 128 # 3rd layer number of neurons\n",
        "\n",
        "n_input = trainset[0][0].shape[0] # input shape (a vectorized 28*28 image)\n",
        "n_output = 10 # MNIST total classes (0-9 digits)"
      ]
    },
    {
      "cell_type": "code",
      "execution_count": 36,
      "metadata": {
        "id": "1eMCjoY_kd1g"
      },
      "outputs": [],
      "source": [
        "model_multi_layer = nn.Sequential(\n",
        "    nn.Linear(n_input, n_hidden_1),\n",
        "    nn.ReLU(),\n",
        "    nn.Linear(n_hidden_1, n_hidden_2),\n",
        "    nn.ReLU(),\n",
        "    nn.Linear(n_hidden_2, n_hidden_3),\n",
        "    nn.ReLU(),\n",
        "    nn.Linear(n_hidden_3, n_output)\n",
        ")"
      ]
    },
    {
      "cell_type": "code",
      "execution_count": 37,
      "metadata": {
        "id": "LSOY8Blrmk7e"
      },
      "outputs": [],
      "source": [
        "model_multi_layer = model_multi_layer.to(device)"
      ]
    },
    {
      "cell_type": "markdown",
      "metadata": {
        "id": "SVP381tukx2v"
      },
      "source": [
        "Let us move on to the training. You need to define the loss using the instructions above, and the optimizer as usual. For the loss, use the argument `reduction='sum'` as before for compatibility with my code."
      ]
    },
    {
      "cell_type": "code",
      "execution_count": 38,
      "metadata": {
        "id": "_1A3dLZWkQYk"
      },
      "outputs": [],
      "source": [
        "learning_rate = 0.01\n",
        "n_epochs = 20\n",
        "batch_size = 64"
      ]
    },
    {
      "cell_type": "code",
      "execution_count": 39,
      "metadata": {
        "id": "w6Ii87j6kT2L"
      },
      "outputs": [],
      "source": [
        "criterion = nn.CrossEntropyLoss()\n",
        "optimizer = optim.Adam(model_multi_layer.parameters(), lr = learning_rate)"
      ]
    },
    {
      "cell_type": "code",
      "execution_count": 40,
      "metadata": {
        "id": "cik3WaZ4l9hI"
      },
      "outputs": [],
      "source": [
        "training_loader = DataLoader(trainset, batch_size=batch_size, shuffle=True, drop_last=False)\n",
        "test_loader = DataLoader(testset, batch_size=batch_size, shuffle=False, drop_last=False)"
      ]
    },
    {
      "cell_type": "markdown",
      "metadata": {
        "id": "RAauHIatk8-f"
      },
      "source": [
        "Now comes the main loop for the training and testing:"
      ]
    },
    {
      "cell_type": "code",
      "execution_count": 41,
      "metadata": {
        "id": "SQabUwXHlO3D"
      },
      "outputs": [],
      "source": [
        "# Helper function: we monitor the accuracy during the training\n",
        "def vector_to_class(x):\n",
        "  y = torch.argmax(F.softmax(x,dim=1),axis=1)\n",
        "  return y\n",
        "\n",
        "def prediction_accuracy(predict,labels):\n",
        "  accuracy = (predict == labels).sum()/(labels.shape[0])\n",
        "  return accuracy"
      ]
    },
    {
      "cell_type": "code",
      "execution_count": 42,
      "metadata": {
        "id": "00P_hQ04lO3F"
      },
      "outputs": [
        {
          "name": "stderr",
          "output_type": "stream",
          "text": [
            "Epoch 0: 100%|██████████| 938/938 [00:15<00:00, 60.92batch/s]\n"
          ]
        },
        {
          "name": "stdout",
          "output_type": "stream",
          "text": [
            "Epoch 0: Train Loss: 0.0067\n",
            "Epoch 0: Train Accuracy: 0.8683\n"
          ]
        },
        {
          "name": "stderr",
          "output_type": "stream",
          "text": [
            "Epoch 1: 100%|██████████| 938/938 [00:15<00:00, 60.78batch/s]\n"
          ]
        },
        {
          "name": "stdout",
          "output_type": "stream",
          "text": [
            "Epoch 1: Train Loss: 0.0044\n",
            "Epoch 1: Train Accuracy: 0.9221\n"
          ]
        },
        {
          "name": "stderr",
          "output_type": "stream",
          "text": [
            "Epoch 2: 100%|██████████| 938/938 [00:15<00:00, 60.77batch/s]\n"
          ]
        },
        {
          "name": "stdout",
          "output_type": "stream",
          "text": [
            "Epoch 2: Train Loss: 0.0041\n",
            "Epoch 2: Train Accuracy: 0.9286\n"
          ]
        },
        {
          "name": "stderr",
          "output_type": "stream",
          "text": [
            "Epoch 3: 100%|██████████| 938/938 [00:15<00:00, 61.59batch/s]\n"
          ]
        },
        {
          "name": "stdout",
          "output_type": "stream",
          "text": [
            "Epoch 3: Train Loss: 0.0040\n",
            "Epoch 3: Train Accuracy: 0.9314\n"
          ]
        },
        {
          "name": "stderr",
          "output_type": "stream",
          "text": [
            "Epoch 4: 100%|██████████| 938/938 [00:15<00:00, 61.02batch/s]\n"
          ]
        },
        {
          "name": "stdout",
          "output_type": "stream",
          "text": [
            "Epoch 4: Train Loss: 0.0038\n",
            "Epoch 4: Train Accuracy: 0.9352\n"
          ]
        },
        {
          "name": "stderr",
          "output_type": "stream",
          "text": [
            "Epoch 5: 100%|██████████| 938/938 [00:15<00:00, 59.53batch/s]\n"
          ]
        },
        {
          "name": "stdout",
          "output_type": "stream",
          "text": [
            "Epoch 5: Train Loss: 0.0035\n",
            "Epoch 5: Train Accuracy: 0.9406\n"
          ]
        },
        {
          "name": "stderr",
          "output_type": "stream",
          "text": [
            "Epoch 6: 100%|██████████| 938/938 [00:15<00:00, 59.95batch/s]\n"
          ]
        },
        {
          "name": "stdout",
          "output_type": "stream",
          "text": [
            "Epoch 6: Train Loss: 0.0036\n",
            "Epoch 6: Train Accuracy: 0.9398\n"
          ]
        },
        {
          "name": "stderr",
          "output_type": "stream",
          "text": [
            "Epoch 7: 100%|██████████| 938/938 [00:15<00:00, 59.54batch/s]\n"
          ]
        },
        {
          "name": "stdout",
          "output_type": "stream",
          "text": [
            "Epoch 7: Train Loss: 0.0036\n",
            "Epoch 7: Train Accuracy: 0.9408\n"
          ]
        },
        {
          "name": "stderr",
          "output_type": "stream",
          "text": [
            "Epoch 8: 100%|██████████| 938/938 [00:15<00:00, 59.61batch/s]\n"
          ]
        },
        {
          "name": "stdout",
          "output_type": "stream",
          "text": [
            "Epoch 8: Train Loss: 0.0033\n",
            "Epoch 8: Train Accuracy: 0.9450\n"
          ]
        },
        {
          "name": "stderr",
          "output_type": "stream",
          "text": [
            "Epoch 9: 100%|██████████| 938/938 [00:15<00:00, 59.54batch/s]\n"
          ]
        },
        {
          "name": "stdout",
          "output_type": "stream",
          "text": [
            "Epoch 9: Train Loss: 0.0034\n",
            "Epoch 9: Train Accuracy: 0.9439\n"
          ]
        },
        {
          "name": "stderr",
          "output_type": "stream",
          "text": [
            "Epoch 10: 100%|██████████| 938/938 [00:15<00:00, 59.82batch/s]\n"
          ]
        },
        {
          "name": "stdout",
          "output_type": "stream",
          "text": [
            "Epoch 10: Train Loss: 0.0036\n",
            "Epoch 10: Train Accuracy: 0.9428\n"
          ]
        },
        {
          "name": "stderr",
          "output_type": "stream",
          "text": [
            "Epoch 11: 100%|██████████| 938/938 [00:15<00:00, 60.14batch/s]\n"
          ]
        },
        {
          "name": "stdout",
          "output_type": "stream",
          "text": [
            "Epoch 11: Train Loss: 0.0033\n",
            "Epoch 11: Train Accuracy: 0.9463\n"
          ]
        },
        {
          "name": "stderr",
          "output_type": "stream",
          "text": [
            "Epoch 12: 100%|██████████| 938/938 [00:15<00:00, 59.97batch/s]\n"
          ]
        },
        {
          "name": "stdout",
          "output_type": "stream",
          "text": [
            "Epoch 12: Train Loss: 0.0032\n",
            "Epoch 12: Train Accuracy: 0.9466\n"
          ]
        },
        {
          "name": "stderr",
          "output_type": "stream",
          "text": [
            "Epoch 13: 100%|██████████| 938/938 [00:15<00:00, 59.55batch/s]\n"
          ]
        },
        {
          "name": "stdout",
          "output_type": "stream",
          "text": [
            "Epoch 13: Train Loss: 0.0032\n",
            "Epoch 13: Train Accuracy: 0.9485\n"
          ]
        },
        {
          "name": "stderr",
          "output_type": "stream",
          "text": [
            "Epoch 14: 100%|██████████| 938/938 [00:15<00:00, 59.76batch/s]\n"
          ]
        },
        {
          "name": "stdout",
          "output_type": "stream",
          "text": [
            "Epoch 14: Train Loss: 0.0033\n",
            "Epoch 14: Train Accuracy: 0.9477\n"
          ]
        },
        {
          "name": "stderr",
          "output_type": "stream",
          "text": [
            "Epoch 15: 100%|██████████| 938/938 [00:15<00:00, 58.94batch/s]\n"
          ]
        },
        {
          "name": "stdout",
          "output_type": "stream",
          "text": [
            "Epoch 15: Train Loss: 0.0030\n",
            "Epoch 15: Train Accuracy: 0.9519\n"
          ]
        },
        {
          "name": "stderr",
          "output_type": "stream",
          "text": [
            "Epoch 16: 100%|██████████| 938/938 [00:15<00:00, 61.03batch/s]\n"
          ]
        },
        {
          "name": "stdout",
          "output_type": "stream",
          "text": [
            "Epoch 16: Train Loss: 0.0030\n",
            "Epoch 16: Train Accuracy: 0.9526\n"
          ]
        },
        {
          "name": "stderr",
          "output_type": "stream",
          "text": [
            "Epoch 17: 100%|██████████| 938/938 [00:15<00:00, 61.12batch/s]\n"
          ]
        },
        {
          "name": "stdout",
          "output_type": "stream",
          "text": [
            "Epoch 17: Train Loss: 0.0031\n",
            "Epoch 17: Train Accuracy: 0.9510\n"
          ]
        },
        {
          "name": "stderr",
          "output_type": "stream",
          "text": [
            "Epoch 18: 100%|██████████| 938/938 [00:14<00:00, 63.52batch/s]\n"
          ]
        },
        {
          "name": "stdout",
          "output_type": "stream",
          "text": [
            "Epoch 18: Train Loss: 0.0031\n",
            "Epoch 18: Train Accuracy: 0.9518\n"
          ]
        },
        {
          "name": "stderr",
          "output_type": "stream",
          "text": [
            "Epoch 19: 100%|██████████| 938/938 [00:14<00:00, 63.80batch/s]"
          ]
        },
        {
          "name": "stdout",
          "output_type": "stream",
          "text": [
            "Epoch 19: Train Loss: 0.0036\n",
            "Epoch 19: Train Accuracy: 0.9451\n"
          ]
        },
        {
          "name": "stderr",
          "output_type": "stream",
          "text": [
            "\n"
          ]
        }
      ],
      "source": [
        "model_multi_layer.train()\n",
        "\n",
        "for epoch in range(0,n_epochs):\n",
        "  train_loss=0.0\n",
        "  all_labels = []\n",
        "  all_predicted = []\n",
        "\n",
        "  with tqdm(training_loader, unit=\"batch\") as tepoch:\n",
        "    for data, labels in tepoch:\n",
        "      tepoch.set_description(f\"Epoch {epoch}\")\n",
        "\n",
        "      # Put the data on device\n",
        "      data = data.to(device)\n",
        "      labels = labels.to(device)\n",
        "\n",
        "      # BEGIN STUDENT CODE: forward and backward passes\n",
        "      # Forward pass: compute predicted outputs by passing inputs to the model\n",
        "      y_predict = model_multi_layer(data)\n",
        "      \n",
        "      # Calculate the loss\n",
        "      loss = criterion(y_predict, labels)\n",
        "      \n",
        "      # Clear the gradients of all optimized variables\n",
        "      optimizer.zero_grad()\n",
        "      \n",
        "      # Perform backward pass: compute gradient of the loss with respect to model parameters\n",
        "      loss.backward()\n",
        "      \n",
        "      # Perform a single optimization step (parameter update)\n",
        "      optimizer.step()\n",
        "\n",
        "      # END STUDENT CODE\n",
        "\n",
        "      # Compute the loss\n",
        "      train_loss += loss.item()\n",
        "      # Store labels and class predictions\n",
        "      all_labels.extend(labels.tolist())\n",
        "      all_predicted.extend(vector_to_class(y_predict).tolist())\n",
        "\n",
        "  print('Epoch {}: Train Loss: {:.4f}'.format(epoch, train_loss/len(training_loader.dataset)))\n",
        "  print('Epoch {}: Train Accuracy: {:.4f}'.format(epoch, prediction_accuracy(np.array(all_predicted),np.array(all_labels))))"
      ]
    },
    {
      "cell_type": "markdown",
      "metadata": {
        "id": "xcOkvA8LlYoU"
      },
      "source": [
        "Testing:"
      ]
    },
    {
      "cell_type": "code",
      "execution_count": 43,
      "metadata": {
        "id": "6MIx31LglYoV"
      },
      "outputs": [
        {
          "name": "stderr",
          "output_type": "stream",
          "text": [
            "100%|██████████| 157/157 [00:01<00:00, 92.66batch/s]"
          ]
        },
        {
          "name": "stdout",
          "output_type": "stream",
          "text": [
            "\n",
            "Test Accuracy: 0.9481\n"
          ]
        },
        {
          "name": "stderr",
          "output_type": "stream",
          "text": [
            "\n"
          ]
        }
      ],
      "source": [
        "model_multi_layer.eval()\n",
        "\n",
        "all_predicted = []\n",
        "all_labels = []\n",
        "\n",
        "with tqdm(test_loader, unit=\"batch\") as tepoch:\n",
        "  for data, labels in tepoch:\n",
        "    all_labels.extend(labels.tolist())\n",
        "\n",
        "    data = data.to(device)\n",
        "    y_predict = model_multi_layer(data)\n",
        "    all_predicted.extend(vector_to_class(y_predict).tolist())\n",
        "\n",
        "test_accuracy = prediction_accuracy(np.array(all_predicted),np.array(all_labels))\n",
        "\n",
        "print(\"\\nTest Accuracy:\", test_accuracy)"
      ]
    },
    {
      "cell_type": "markdown",
      "metadata": {
        "id": "avqE-uSRlkC-"
      },
      "source": [
        "We visualize a few images along with the predicted label on top:"
      ]
    },
    {
      "cell_type": "code",
      "execution_count": 44,
      "metadata": {
        "id": "tRe7HCO-ljeR"
      },
      "outputs": [],
      "source": [
        "def test_mnist_images(model,testset):\n",
        "  model.eval()\n",
        "  plt.figure(figsize=(10, 6))\n",
        "  for idx in range(0,10):\n",
        "      plt.subplot(2, 5, idx+1)\n",
        "      rand_ind = np.random.randint(0,len(testset))\n",
        "      plt.imshow(np.reshape(testset[rand_ind][0].detach().cpu().numpy(),(28,28)),cmap='gray')\n",
        "      # get prediction\n",
        "      model_prediction = np.argmax(model(torch.unsqueeze(testset[rand_ind][0], dim=0).to(device)).detach().cpu().numpy(),axis=1).squeeze()\n",
        "      plt.title(str(int(model_prediction)))"
      ]
    },
    {
      "cell_type": "code",
      "execution_count": 49,
      "metadata": {
        "colab": {
          "base_uri": "https://localhost:8080/",
          "height": 468
        },
        "id": "bjOGBLtBlrja",
        "outputId": "81f01442-5047-41e6-88c4-1172ca8edbc1"
      },
      "outputs": [
        {
          "data": {
            "image/png": "[encoded data removed]",
            "text/plain": [
              "<Figure size 1000x600 with 10 Axes>"
            ]
          },
          "metadata": {},
          "output_type": "display_data"
        }
      ],
      "source": [
        "test_mnist_images(model_multi_layer,testset)"
      ]
    },
    {
      "cell_type": "markdown",
      "metadata": {
        "id": "lItdBVnfu7xK"
      },
      "source": [
        "The generalization is reasonably good on this simple dataset (on my run). Regardless, to improve training and limit overfitting, we can turn to __regularisation__."
      ]
    },
    {
      "cell_type": "markdown",
      "metadata": {
        "id": "Vgao_U5XRHA2"
      },
      "source": [
        "# Batch normalization\n",
        "\n",
        "One approach to regularisation which we have seen during the lesson is known as batch normalisation. This can be implemented very simply in Tensorflow by adding the following layer :\n",
        "\n",
        "- ```BatchNorm1d(n_features)```\n",
        "\n",
        "with `n_features` the number of neurons in the layer immediately prior to the batch norm layer. Change your model below, by adapting the model above. You will put `BatchNorm1d` layers after every ReLu non-linearity."
      ]
    },
    {
      "cell_type": "code",
      "execution_count": null,
      "metadata": {
        "colab": {
          "base_uri": "https://localhost:8080/"
        },
        "id": "Ae7gXSs8rFnc",
        "outputId": "bdf66cea-7c5e-4f77-af2b-478e8278daa6"
      },
      "outputs": [
        {
          "name": "stdout",
          "output_type": "stream",
          "text": [
            "cuda:0\n"
          ]
        }
      ],
      "source": [
        "device = torch.device(\"cuda:0\" if torch.cuda.is_available() else \"cpu\")\n",
        "print(device)"
      ]
    },
    {
      "cell_type": "markdown",
      "metadata": {
        "id": "JkRNpCVmrFnf"
      },
      "source": [
        "MLP architecture, via sequential API:"
      ]
    },
    {
      "cell_type": "code",
      "execution_count": null,
      "metadata": {
        "id": "Vi3-WzWsrFnf"
      },
      "outputs": [],
      "source": [
        "n_hidden_1 = 256 # 1st layer number of neurons\n",
        "n_hidden_2 = 256 # 2nd layer number of neurons\n",
        "n_hidden_3 = 128 # 3rd layer number of neurons\n",
        "\n",
        "n_input = trainset[0][0].shape[0] # input shape (a vectorized 28*28 image)\n",
        "n_output = 10 # MNIST total classes (0-9 digits)"
      ]
    },
    {
      "cell_type": "code",
      "execution_count": null,
      "metadata": {
        "id": "ohoqZKX1rFng"
      },
      "outputs": [],
      "source": [
        "model_multi_layer_bn = nn.Sequential(\n",
        "  ...)"
      ]
    },
    {
      "cell_type": "code",
      "execution_count": null,
      "metadata": {
        "id": "poqHKEB-rFng"
      },
      "outputs": [],
      "source": [
        "model_multi_layer_bn = model_multi_layer_bn.to(device)"
      ]
    },
    {
      "cell_type": "markdown",
      "metadata": {
        "id": "JjnxjSqYrFng"
      },
      "source": [
        "Let us move on to the training. You need to define the loss using the instructions above, and the optimizer as usual. For the loss, use the argument `reduction='sum'` as before for compatibility with my code."
      ]
    },
    {
      "cell_type": "code",
      "execution_count": null,
      "metadata": {
        "id": "7MeYDtosrFnh"
      },
      "outputs": [],
      "source": [
        "learning_rate = 0.01\n",
        "n_epochs = 20\n",
        "batch_size = 64"
      ]
    },
    {
      "cell_type": "code",
      "execution_count": null,
      "metadata": {
        "id": "Frx8_TXFrFni"
      },
      "outputs": [],
      "source": [
        "criterion = ...\n",
        "\n",
        "# Do not forget to change the name of the model if you copy paste code!!!\n",
        "optimizer = ..."
      ]
    },
    {
      "cell_type": "code",
      "execution_count": null,
      "metadata": {
        "id": "IOmcF3GArFni"
      },
      "outputs": [],
      "source": [
        "training_loader = ...\n",
        "test_loader = ..."
      ]
    },
    {
      "cell_type": "markdown",
      "metadata": {
        "id": "IvFmafPirFnj"
      },
      "source": [
        "Now comes the main loop for the training and testing:"
      ]
    },
    {
      "cell_type": "code",
      "execution_count": null,
      "metadata": {
        "id": "QDA56ZVlrFnj"
      },
      "outputs": [],
      "source": [
        "# Helper function: we monitor the accuracy during the training\n",
        "def vector_to_class(x):\n",
        "  y = torch.argmax(F.softmax(x,dim=1),axis=1)\n",
        "  return y\n",
        "\n",
        "def prediction_accuracy(predict,labels):\n",
        "  accuracy = (predict == labels).sum()/(labels.shape[0])\n",
        "  return accuracy"
      ]
    },
    {
      "cell_type": "code",
      "execution_count": null,
      "metadata": {
        "id": "eeidilXqrFnj"
      },
      "outputs": [],
      "source": [
        "# !!! Do not forget to change the name of the model if you copy-paste code !!!\n",
        "\n",
        "# TRAINING TO COMPLETE BY STUDENTS\n",
        "\n",
        "..."
      ]
    },
    {
      "cell_type": "markdown",
      "metadata": {
        "id": "jN5HLVafrFnk"
      },
      "source": [
        "Testing:"
      ]
    },
    {
      "cell_type": "code",
      "execution_count": null,
      "metadata": {
        "colab": {
          "base_uri": "https://localhost:8080/"
        },
        "id": "gosmh48brFnl",
        "outputId": "50507113-fa6c-4731-b124-5d473d636a4f"
      },
      "outputs": [
        {
          "name": "stderr",
          "output_type": "stream",
          "text": [
            "100%|██████████| 157/157 [00:02<00:00, 64.13batch/s]"
          ]
        },
        {
          "name": "stdout",
          "output_type": "stream",
          "text": [
            "\n",
            "Test Accuracy: 0.9756\n"
          ]
        },
        {
          "name": "stderr",
          "output_type": "stream",
          "text": [
            "\n"
          ]
        }
      ],
      "source": [
        "# !!! Do not forget to change the name of the model if you copy-paste code !!!\n",
        "\n",
        "# TESTING TO COMPLETE BY STUDENTS\n",
        "\n",
        "..."
      ]
    },
    {
      "cell_type": "markdown",
      "metadata": {
        "id": "ZaC_i_mas6ry"
      },
      "source": [
        "Batch normalization makes it easier to converge to a good local minimum by reducing internal covariate shift during training, and by normalizing intermediate inputs."
      ]
    },
    {
      "cell_type": "markdown",
      "metadata": {
        "id": "2CvUkS8Oy6-o"
      },
      "source": [
        "# Dropout\n",
        "\n",
        "Even if this is not very significant at all on this example, you may see that there is a difference between the training accuracy and the testing accuracy. This is the problem of overfitting. To alleviate this problem, we can turn to _dropout_:\n",
        "\n",
        "```nn.Dropout(rate,...)```\n",
        "\n",
        "where rate is the probability that an input neuron to a layer will get set to 0. You can do this after any layer, for instance after the BN layers. Adapt the previous architecture and try out the droupout. Set the dropout rate to 0.1 as a first test.\n"
      ]
    },
    {
      "cell_type": "code",
      "execution_count": null,
      "metadata": {
        "colab": {
          "base_uri": "https://localhost:8080/"
        },
        "id": "sAvs1X7Yvx3z",
        "outputId": "b10ba765-4b40-47ad-a195-9efc735d9474"
      },
      "outputs": [
        {
          "name": "stdout",
          "output_type": "stream",
          "text": [
            "cuda:0\n"
          ]
        }
      ],
      "source": [
        "device = torch.device(\"cuda:0\" if torch.cuda.is_available() else \"cpu\")\n",
        "print(device)"
      ]
    },
    {
      "cell_type": "markdown",
      "metadata": {
        "id": "HFwH_84Nvx30"
      },
      "source": [
        "MLP architecture, via sequential API:"
      ]
    },
    {
      "cell_type": "code",
      "execution_count": null,
      "metadata": {
        "id": "8XjSR7Hxvx30"
      },
      "outputs": [],
      "source": [
        "n_hidden_1 = 256 # 1st layer number of neurons\n",
        "n_hidden_2 = 256 # 2nd layer number of neurons\n",
        "n_hidden_3 = 128 # 3rd layer number of neurons\n",
        "\n",
        "n_input = trainset[0][0].shape[0] # input shape (a vectorized 28*28 image)\n",
        "n_output = 10 # MNIST total classes (0-9 digits)\n",
        "\n",
        "dropout_rate = 0.1"
      ]
    },
    {
      "cell_type": "code",
      "execution_count": null,
      "metadata": {
        "id": "PRXNPiIXvx30"
      },
      "outputs": [],
      "source": [
        "model_multi_layer_do = ..."
      ]
    },
    {
      "cell_type": "code",
      "execution_count": null,
      "metadata": {
        "id": "5TtjVwtJvx31"
      },
      "outputs": [],
      "source": [
        "model_multi_layer_do = model_multi_layer_do.to(device)"
      ]
    },
    {
      "cell_type": "markdown",
      "metadata": {
        "id": "aKmOSJYOvx31"
      },
      "source": [
        "Let us move on to the training. Write everything by yourself by adjusting the code from above."
      ]
    },
    {
      "cell_type": "code",
      "execution_count": null,
      "metadata": {
        "id": "ZIl6dhHFvx31"
      },
      "outputs": [],
      "source": [
        "# STUDENTS: TO DO\n",
        "\n",
        "..."
      ]
    },
    {
      "cell_type": "markdown",
      "metadata": {
        "id": "TG52SS5Evx33"
      },
      "source": [
        "Testing, to be completed:"
      ]
    },
    {
      "cell_type": "code",
      "execution_count": null,
      "metadata": {
        "id": "sQXjjpFjvx33"
      },
      "outputs": [],
      "source": [
        "# !!! Do not forget to change the name of the model if you copy-paste code !!!\n",
        "\n",
        "..."
      ]
    },
    {
      "cell_type": "markdown",
      "metadata": {
        "id": "XX08cV_wvx33"
      },
      "source": [
        "On my runs, the gap between training and test accuracy was completely closed after adding dropout, probably thanks to the reduced co-adaptation of neurons. The test accuracy with dropout is slightly better.<br>\n",
        "\n",
        "It remains that using a fully-connected architecture on an image dataset is probably not the best choice (as it encodes no inductive bias about images). We will experiment with CNNs in the next lab!"
      ]
    },
    {
      "cell_type": "markdown",
      "metadata": {
        "id": "Y2CWgKZeRHA2"
      },
      "source": [
        "#### Documentation:\n",
        "\n",
        "  - https://pytorch.org/\n",
        "  - http://www.deeplearningbook.org/"
      ]
    }
  ],
  "metadata": {
    "colab": {
      "provenance": []
    },
    "kernelspec": {
      "display_name": "Python 3",
      "name": "python3"
    },
    "language_info": {
      "codemirror_mode": {
        "name": "ipython",
        "version": 3
      },
      "file_extension": ".py",
      "mimetype": "text/x-python",
      "name": "python",
      "nbconvert_exporter": "python",
      "pygments_lexer": "ipython3",
      "version": "3.12.1"
    }
  },
  "nbformat": 4,
  "nbformat_minor": 0
}
