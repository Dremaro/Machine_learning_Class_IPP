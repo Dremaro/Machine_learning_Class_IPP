{
  "cells": [
    {
      "cell_type": "markdown",
      "metadata": {
        "id": "Es_iHEzxW190"
      },
      "source": [
        "# TP IMA205 - Coding Convolutional Neural Networks in Pytorch\n",
        "\n",
        "Practical work originally created by Alasdair Newson (https://sites.google.com/site/alasdairnewson/)\n",
        "\n",
        "For any remark or suggestion, please feel free to contact me at:\n",
        "\n",
        "- loic.lefolgoc@telecom-paris.fr\n",
        "\n",
        "### Objective:\n",
        "\n",
        "We want to implement a Convolutional Neural Network (CNN) for image recognition. For this we will use two well-known datasets, the first simpler and the second more complicated :\n",
        "\n",
        "- MNIST (images of digits)\n",
        "- CIFAR-10 dataset https://www.cs.toronto.edu/~kriz/cifar.html.\n",
        "\n",
        "The CIFAR-10 dataset consists of 60000 32x32 colour images in 10 classes, with 6000 images per class. There are 50000 training images and 10000 test images.\n",
        "\n",
        "<br>We will first code the simple ConvNet described below using the Pytorch environment : https://pytorch.org/.\n",
        "\n",
        "- The input of the CNN is a set of (3,m,n) image tensors (m and n depend on the dataset).\n",
        "- We apply\n",
        "    - a Convolutional layer of 32 filters of shape (3,3), with stride (1,1) and padding='same' (i.e. we apply zero-padding)\n",
        "    - additive biases\n",
        "    - a ReLu activation function\n",
        "    - a Convolutional layer of 32 filters of shape (3,3), with stride (1,1) and padding='same' (i.e. we apply zero-padding)\n",
        "    - additive biases\n",
        "    - a ReLu activation function\n",
        "    - a Max Pooling Layer of shape (2,2) and stride (2,2) (i.e. we reduce by two the size in each dimension)\n",
        "    - We then Flatten the data (reduce them to a vector in order to be able to apply a Fully-Connected layer to it)\n",
        "    - A softmax activation function which outputs are the $P(y_c | X)$ (multi-class problem)\n",
        "\n",
        "\n",
        "<IMG SRC='https://drive.google.com/uc?export=view&id=10xVi1LejX5TAI-tuOQM-UrSrNYa9gi0q'>\n",
        "    \n",
        "You should use the \"SAME\" border conditions.\n",
        "    \n",
        "### Your task:\n",
        "You need to add the missing parts in the code (parts between # --- START CODE HERE and # --- END CODE HERE)"
      ]
    },
    {
      "cell_type": "markdown",
      "metadata": {
        "id": "Cgyu2GBVW192"
      },
      "source": [
        "# Load packages"
      ]
    },
    {
      "cell_type": "code",
      "execution_count": 1,
      "metadata": {
        "id": "1Qj5KY79W192"
      },
      "outputs": [],
      "source": [
        "%matplotlib inline\n",
        "import matplotlib.pyplot as plt\n",
        "import numpy as np\n",
        "\n",
        "import torch\n",
        "import torch.nn as nn\n",
        "import torch.nn.functional as F\n",
        "import torch.optim as optim\n",
        "import torchvision.datasets as datasets\n",
        "import torchvision.transforms as transforms"
      ]
    },
    {
      "cell_type": "markdown",
      "metadata": {
        "id": "OHJ17JDiliHA"
      },
      "source": [
        "### CNN model in Pytorch\n",
        "\n",
        "There are several ways to write a CNN model in pytorch. In this lab, you will be using the _Sequential_ class of pytorch (similarly to Tensorflow). We will see the syntax further on.\n",
        "\n"
      ]
    },
    {
      "cell_type": "markdown",
      "metadata": {
        "id": "Q_S76Wi_W199"
      },
      "source": [
        "# Import data\n",
        "\n",
        "We first import the MNIST dataset. The training set is imported in `mnist_trainset` and the test set in `mnist_testset`.\n",
        "\n",
        "In practice, training on `mnist_trainset` takes too much time for this practical work. For this reason, we define a smaller training set (`mnist_trainset_reduced`) with a random subset of images. We will use `mnist_trainset_reduced` when training."
      ]
    },
    {
      "cell_type": "code",
      "execution_count": 3,
      "metadata": {
        "colab": {
          "base_uri": "https://localhost:8080/"
        },
        "id": "BrYw9LK9W19-",
        "outputId": "7341bcd9-1de2-4af7-e316-617f79fa351c"
      },
      "outputs": [
        {
          "name": "stdout",
          "output_type": "stream",
          "text": [
            "Dataset MNIST\n",
            "    Number of datapoints: 60000\n",
            "    Root location: ./data\n",
            "    Split: Train\n",
            "    StandardTransform\n",
            "Transform: Compose(\n",
            "               ToTensor()\n",
            "           )\n"
          ]
        }
      ],
      "source": [
        "# Convert input to Pytorch tensors (ToTensor includes a rescaling from the range [0,255] to [0.0,1.0])\n",
        "input_transform=transforms.Compose([transforms.ToTensor()])\n",
        "\n",
        "# Download MNIST training data\n",
        "mnist_trainset = datasets.MNIST(root='./data',train=True,download=True,transform=input_transform)\n",
        "print(mnist_trainset)\n",
        "\n",
        "# Download test dataset\n",
        "mnist_testset = datasets.MNIST(root='./data',train=False,download=True,transform=input_transform)\n",
        "\n",
        "# Create data loader with smaller dataset size\n",
        "max_mnist_size = 2000\n",
        "mnist_trainset_reduced = torch.utils.data.random_split(mnist_trainset, [max_mnist_size, len(mnist_trainset)-max_mnist_size])[0]"
      ]
    },
    {
      "cell_type": "markdown",
      "metadata": {
        "id": "NJ1vhc1SN_rs"
      },
      "source": [
        "We also make a direct access to the training and test data as `torch` tensors. We will use them for visualization purposes and to compute the final training/test accuracies."
      ]
    },
    {
      "cell_type": "code",
      "execution_count": 4,
      "metadata": {
        "id": "lXXsOChGKMO1"
      },
      "outputs": [
        {
          "name": "stdout",
          "output_type": "stream",
          "text": [
            "<class 'torch.Tensor'> torch.Size([2000, 1, 28, 28])\n",
            "<class 'torch.Tensor'> torch.Size([2000])\n",
            "<class 'torch.Tensor'> torch.Size([10000, 1, 28, 28])\n",
            "<class 'torch.Tensor'> torch.Size([10000])\n"
          ]
        }
      ],
      "source": [
        "# Extract the actual data and labels\n",
        "X_train = torch.unsqueeze(mnist_trainset.data,axis=1)[mnist_trainset_reduced.indices]/255.0\n",
        "Y_train = mnist_trainset.targets[mnist_trainset_reduced.indices]\n",
        "X_test = torch.unsqueeze(mnist_testset.data,axis=1)/255.0\n",
        "Y_test = mnist_testset.targets\n",
        "print(type(X_train), X_train.shape)\n",
        "print(type(Y_train), Y_train.shape)\n",
        "print(type(X_test), X_test.shape)\n",
        "print(type(Y_test), Y_test.shape)"
      ]
    },
    {
      "cell_type": "markdown",
      "metadata": {
        "id": "Ss6fBjWrAS4U"
      },
      "source": [
        "## Exploring the data\n",
        "\n",
        "We can explore the dataset `mnist_trainset` manually, although when we train the model, we will use the ```DataLoader``` of Pytorch (see later).\n",
        "\n",
        "The images are contained in a sub-structure of ```mnist_trainset``` called ```data```. The labels are contained in another sub-structure of ```mnist_trainset``` called ```targets```. Note that these are kept in their native format (the transformations are not applied to them), so to use them we have to apply the transformation manually, as above.\n",
        "\n",
        "__NOTE__ In general, if you want to find out what a structure contains, use the command ```dir()```, this will give you a list of the sub-structures.\n",
        "\n",
        "__NOTE__ `mnist_trainset_reduced` is a `Subset` object rather than a `Dataset` object. We cannot call `.data` and `.target` directly on it, although we can pass it as argument to a `DataLoader`."
      ]
    },
    {
      "cell_type": "code",
      "execution_count": 5,
      "metadata": {
        "id": "rMqnFhbH9bcq"
      },
      "outputs": [
        {
          "name": "stdout",
          "output_type": "stream",
          "text": [
            "['__add__', '__annotations__', '__class__', '__class_getitem__', '__delattr__', '__dict__', '__dir__', '__doc__', '__eq__', '__format__', '__ge__', '__getattribute__', '__getitem__', '__getstate__', '__gt__', '__hash__', '__init__', '__init_subclass__', '__le__', '__len__', '__lt__', '__module__', '__ne__', '__new__', '__orig_bases__', '__parameters__', '__reduce__', '__reduce_ex__', '__repr__', '__setattr__', '__sizeof__', '__str__', '__subclasshook__', '__weakref__', '_check_exists', '_check_legacy_exist', '_format_transform_repr', '_load_data', '_load_legacy_data', '_repr_indent', 'class_to_idx', 'classes', 'data', 'download', 'extra_repr', 'mirrors', 'processed_folder', 'raw_folder', 'resources', 'root', 'target_transform', 'targets', 'test_data', 'test_file', 'test_labels', 'train', 'train_data', 'train_labels', 'training_file', 'transform', 'transforms']\n",
            "Size of training data :  torch.Size([60000, 28, 28])\n",
            "Size of training labels :  torch.Size([60000])\n"
          ]
        }
      ],
      "source": [
        "print(dir(mnist_trainset))\n",
        "\n",
        "print(\"Size of training data : \", mnist_trainset.data.shape)\n",
        "print(\"Size of training labels : \", mnist_trainset.targets.shape)\n"
      ]
    },
    {
      "cell_type": "markdown",
      "metadata": {
        "id": "MnTkYmu-W1-E"
      },
      "source": [
        "The mnist dataset has 10 classes. These are the following :"
      ]
    },
    {
      "cell_type": "code",
      "execution_count": 6,
      "metadata": {
        "id": "kvJ7McU7W1-F"
      },
      "outputs": [],
      "source": [
        "mnist_list = [ '0', '1','2','3','4','5','6','7','8','9']"
      ]
    },
    {
      "cell_type": "markdown",
      "metadata": {
        "id": "6f_7d1NnW1-L"
      },
      "source": [
        "## Display some of the images"
      ]
    },
    {
      "cell_type": "code",
      "execution_count": 7,
      "metadata": {
        "colab": {
          "base_uri": "https://localhost:8080/",
          "height": 468
        },
        "id": "9OcnfCwbW1-M",
        "outputId": "980b932c-66b7-40f1-81c4-485583de1595"
      },
      "outputs": [
        {
          "name": "stdout",
          "output_type": "stream",
          "text": [
            "torch.Size([28, 28])\n",
            "torch.Size([28, 28])\n",
            "torch.Size([28, 28])\n",
            "torch.Size([28, 28])\n",
            "torch.Size([28, 28])\n",
            "torch.Size([28, 28])\n",
            "torch.Size([28, 28])\n",
            "torch.Size([28, 28])\n",
            "torch.Size([28, 28])\n",
            "torch.Size([28, 28])\n"
          ]
        },
        {
          "data": {
            "image/png": "[encoded data removed]",
            "text/plain": [
              "<Figure size 1000x600 with 10 Axes>"
            ]
          },
          "metadata": {},
          "output_type": "display_data"
        }
      ],
      "source": [
        "plt.figure(figsize=(10, 6))\n",
        "for idx in range(0,10):\n",
        "    plt.subplot(2, 5, idx+1)\n",
        "    rand_ind = np.random.randint(0,mnist_trainset.data.shape[0])\n",
        "    plt.imshow(mnist_trainset.data[rand_ind,:,:],cmap='gray')\n",
        "    print(mnist_trainset.data[rand_ind,:,:].shape)\n",
        "    plt.title(mnist_list[int(mnist_trainset.targets[rand_ind])])"
      ]
    },
    {
      "cell_type": "markdown",
      "metadata": {
        "id": "YzRfY8QTBIX-"
      },
      "source": [
        "# Defining the model for MNIST\n",
        "\n",
        "We will now define the simple CNN described above, for use with MNIST. The input of the CNN is a set of (28,28,1) image tensors. We apply the following layers:\n",
        "\n",
        "    - a Convolutional layer of 32 filters of shape (3,3), with stride (1,1) and padding='same'\n",
        "    - a ReLu activation function\n",
        "    \n",
        "    - a Convolutional layer of 32 filters of shape (3,3), with stride (1,1) and padding='same'\n",
        "    - a ReLu activation function\n",
        "    - a Max Pooling Layer of shape (2,2) and stride (2,2) (i.e. we reduce by two the size in each dimension)\n",
        "    \n",
        "    - We then Flatten the data: reduce them to a vector in order to be able to apply a Fully-Connected layer to it\n",
        "    - Dense (fully connected) layer. Note, you will have to determine the input size, that is to say the number of elements after the last Max Pooling layer.\n",
        "\n",
        "__VERY IMPORTANT NOTE !!!__\n",
        "\n",
        "Pytorch carries out the softmax which we would expect at the end of our network automatically in the loss function that we will use, so there is no need to add it. Nevertheless, you must understand that the network output is a vector (of logits) which is _not_ normalised to be a probability distribution. This will be important later on.\n",
        "\n",
        "Now, we define the following hyper-parameters of the model :"
      ]
    },
    {
      "cell_type": "code",
      "execution_count": 8,
      "metadata": {
        "id": "3T9d8TYFBONz"
      },
      "outputs": [],
      "source": [
        "learning_rate = 0.01\n",
        "n_epochs = 10\n",
        "batch_size = 64\n",
        "nb_classes = int(mnist_trainset.targets.max()+1)\n",
        "\n",
        "nb_filters = 32       # number of convolutional filters to use\n",
        "kernel_size = (3, 3)  # convolution kernel size\n",
        "pool_size = (2, 2)    # size of pooling area for max pooling\n",
        "\n",
        "# --- Size of the successive layers\n",
        "n_h_0 = 1 #28*28             # greyscale input images    = 1 ????????????????????????????????????????????????????????\n",
        "n_h_1 = nb_filters\n",
        "n_h_2 = nb_filters"
      ]
    },
    {
      "cell_type": "markdown",
      "metadata": {
        "id": "5MOihxZ-W1-W"
      },
      "source": [
        "# Model 1 : defining a CNN with the Sequential API of Pytorch for MNIST\n",
        "\n",
        "We are now going to create the CNN with Pytorch.\n",
        "\n",
        "The Sequential approach is quite similar to that of Tensorflow. To define a model, just write:\n",
        "\n",
        "```my_model = torch.nn.Sequential( first_layer, second_layer, ...)```\n",
        "\n",
        "Each layer must be a function imported from the Pytorch. You can use the following functions:\n",
        "\n",
        "- ```torch.nn.Conv2d()```\n",
        "- ```torch.nn.ReLU()```\n",
        "- ```torch.nn.MaxPool2d()```\n",
        "- ```torch.nn.Flatten()```\n",
        "- ```torch.nn.Linear()```\n",
        "\n",
        "Look at the documentation online to find the correct parameters. For example:\n",
        "\n",
        "- https://pytorch.org/docs/stable/generated/torch.nn.Conv2d.html\n"
      ]
    },
    {
      "cell_type": "code",
      "execution_count": 9,
      "metadata": {
        "id": "npx-4C1SW1-X"
      },
      "outputs": [],
      "source": [
        "# BEGIN STUDENT CODE\n",
        "mnist_model = torch.nn.Sequential(\n",
        "    torch.nn.Conv2d(n_h_0, n_h_1, kernel_size=kernel_size),\n",
        "    torch.nn.ReLU(),\n",
        "    torch.nn.MaxPool2d(kernel_size=pool_size),\n",
        "    torch.nn.Conv2d(n_h_1, n_h_2, kernel_size=kernel_size),\n",
        "    torch.nn.ReLU(),\n",
        "    torch.nn.MaxPool2d(kernel_size=pool_size),\n",
        "    torch.nn.Flatten(),\n",
        "    torch.nn.Linear(5*5*n_h_2, nb_classes)\n",
        ")\n",
        "# END STUDENT CODE"
      ]
    },
    {
      "cell_type": "markdown",
      "metadata": {
        "id": "lWAn7YfDLtZ3"
      },
      "source": [
        "## Define dataloader"
      ]
    },
    {
      "cell_type": "markdown",
      "metadata": {
        "id": "09fTmlMHLvNe"
      },
      "source": [
        "We use the ```torch.utils.data.DataLoader``` function of Pytorch to easily iterate over mini-batches of data. ```torch.utils.data.DataLoader``` is a useful function to extract batches of data from a dataset, applying the transformations which we have specified (conversion to Pytorch tensor, normalisation etc).\n",
        "\n",
        "We will train using the smaller training set, `mnist_trainset_reduced`."
      ]
    },
    {
      "cell_type": "code",
      "execution_count": 10,
      "metadata": {
        "id": "mQ5bb_9kLvqp"
      },
      "outputs": [],
      "source": [
        "mnist_train_loader = torch.utils.data.DataLoader(mnist_trainset_reduced, batch_size=batch_size, shuffle=True)"
      ]
    },
    {
      "cell_type": "markdown",
      "metadata": {
        "id": "7FJS2SGeEwHF"
      },
      "source": [
        "## Define loss function and optimiser\n",
        "\n",
        "Pytorch provides an easy way to define the loss criterion to optimise. The syntax is (considering that the Adam optimiser is used):\n",
        "\n",
        "- ```criterion = torch.nn.BCELoss()``` or ```criterion = torch.nn.CrossEntropyLoss()```, etc., depending on your problem.\n",
        "- ```optimizer = torch.optim.Adam(mnist_model.parameters(), lr=learning_rate)```\n",
        "\n",
        "Fill in the following code, choosing the correct criterion to optimise. For the criterion, the individual loss over individual data samples can be aggregated into the total loss in several ways. Choose `reduction='sum'`, which takes the sum of individual losses."
      ]
    },
    {
      "cell_type": "code",
      "execution_count": 11,
      "metadata": {
        "id": "AK1pxqFCE090"
      },
      "outputs": [],
      "source": [
        "# BEGIN STUDENT CODE\n",
        "criterion = torch.nn.CrossEntropyLoss()\n",
        "optimizer = torch.optim.Adam(mnist_model.parameters(), lr=learning_rate)\n",
        "# END STUDENT CODE"
      ]
    },
    {
      "cell_type": "markdown",
      "metadata": {
        "id": "42zy2XwsNfTQ"
      },
      "source": [
        "## CNN prediction conversion\n",
        "\n",
        "We recall here that the output of the classification CNN in Pytorch is a vector which is __NOT__ normalised to be a probability distribution. Therefore, for the purposes of finding the prediction of the CNN, we create a function which first converts an input vector to a probability distribution, and then determines the most likely class for each vector. The output should be, for each vector, an integer between 0 and (number of classes) $-1$.\n",
        "\n",
        "The inputs to this function will be Pytorch tensors, so you can use the following Pytorch functions on them :\n",
        "\n",
        "- ```torch.nn.Softmax()```\n",
        "- ```torch.argmax()```\n",
        "\n",
        "Create this function now."
      ]
    },
    {
      "cell_type": "code",
      "execution_count": 12,
      "metadata": {
        "id": "TqCPink-N1LB"
      },
      "outputs": [],
      "source": [
        "def vector_to_class(x):\n",
        "    # BEGIN STUDENT CODE\n",
        "    softmax = torch.nn.Softmax(dim=1)  # softmax(x)_i = exp(x_i) / sum(exp(x_j) for all j)\n",
        "    probabilities = softmax(x)\n",
        "    y = torch.argmax(probabilities, dim=1)\n",
        "    # END STUDENT CODE\n",
        "    return y"
      ]
    },
    {
      "cell_type": "markdown",
      "metadata": {
        "id": "sYzRpoTgGhpG"
      },
      "source": [
        "## Accuracy\n",
        "\n",
        "Now, define a function which calculates the accuracy of the output of the neural network, with respect to the input labels. We consider that the input is a vector of class numbers (similar to the output of `vector_to_class`, but converted to a numpy array)."
      ]
    },
    {
      "cell_type": "code",
      "execution_count": 13,
      "metadata": {
        "id": "f4V5LKDhGsQT"
      },
      "outputs": [],
      "source": [
        "def cnn_accuracy(predict,labels):\n",
        "  # BEGIN STUDENT CODE\n",
        "  accuracy = (predict == labels).sum().item() / len(labels)\n",
        "  # END STUDENT CODE\n",
        "  return accuracy"
      ]
    },
    {
      "cell_type": "markdown",
      "metadata": {
        "id": "ljHi0tfiW1-h"
      },
      "source": [
        "## Training the model\n",
        "\n",
        "Now, we carry out the actual training of the model."
      ]
    },
    {
      "cell_type": "code",
      "execution_count": 14,
      "metadata": {
        "id": "HVe9ZWAdW1-h"
      },
      "outputs": [
        {
          "name": "stdout",
          "output_type": "stream",
          "text": [
            "Epoch:0 Train Loss:0.0163\n",
            "Accuracy:0.6595\n",
            "Epoch:1 Train Loss:0.0038\n",
            "Accuracy:0.9220\n",
            "Epoch:2 Train Loss:0.0023\n",
            "Accuracy:0.9530\n",
            "Epoch:3 Train Loss:0.0014\n",
            "Accuracy:0.9695\n",
            "Epoch:4 Train Loss:0.0008\n",
            "Accuracy:0.9855\n",
            "Epoch:5 Train Loss:0.0004\n",
            "Accuracy:0.9920\n",
            "Epoch:6 Train Loss:0.0002\n",
            "Accuracy:0.9965\n",
            "Epoch:7 Train Loss:0.0005\n",
            "Accuracy:0.9925\n",
            "Epoch:8 Train Loss:0.0004\n",
            "Accuracy:0.9920\n",
            "Epoch:9 Train Loss:0.0005\n",
            "Accuracy:0.9880\n"
          ]
        }
      ],
      "source": [
        "train_losses=[]\n",
        "valid_losses=[]\n",
        "\n",
        "for epoch in range(0,n_epochs):\n",
        "  train_loss=0.0\n",
        "  all_labels = []\n",
        "  all_predicted = []\n",
        "\n",
        "  for batch_idx, (imgs, labels) in enumerate(mnist_train_loader):\n",
        "    # pass the samples through the network\n",
        "    predict = mnist_model(imgs)\n",
        "    # apply loss function\n",
        "    loss = criterion(predict, labels)\n",
        "    # set the gradients back to 0\n",
        "    optimizer.zero_grad()\n",
        "    # backpropagation\n",
        "    loss.backward()\n",
        "    # parameter update\n",
        "    optimizer.step()\n",
        "    # compute the train loss\n",
        "    train_loss += loss.item()\n",
        "    # store labels and class predictions\n",
        "    all_labels.extend(labels.tolist())\n",
        "    all_predicted.extend(vector_to_class(predict).tolist())\n",
        "\n",
        "  print('Epoch:{} Train Loss:{:.4f}'.format(epoch,train_loss/len(mnist_train_loader.dataset)))\n",
        "\n",
        "  # calculate accuracy\n",
        "  print('Accuracy:{:.4f}'.format(cnn_accuracy(np.array(all_predicted),np.array(all_labels))))"
      ]
    },
    {
      "cell_type": "markdown",
      "metadata": {
        "id": "m90MIu6PC96D"
      },
      "source": [
        "<br> Let's compute the final training and test accuracies:"
      ]
    },
    {
      "cell_type": "code",
      "execution_count": 15,
      "metadata": {
        "id": "rOsF40hkEqx1"
      },
      "outputs": [
        {
          "name": "stdout",
          "output_type": "stream",
          "text": [
            "Train Accuracy: 0.988\n",
            "Test Accuracy: 0.9434\n"
          ]
        }
      ],
      "source": [
        "# Calculate accuracy on the training set and the test set\n",
        "\n",
        "# BEGIN FILL IN STUDENT (use X_train, Y_train, X_test, Y_test)\n",
        "predict_train = vector_to_class(mnist_model(X_train))\n",
        "predict_test = vector_to_class(mnist_model(X_test))\n",
        "\n",
        "train_accuracy = cnn_accuracy(predict_train, Y_train)\n",
        "test_accuracy = cnn_accuracy(predict_test, Y_test)\n",
        "# END FILL IN STUDENT\n",
        "\n",
        "print(\"Train Accuracy:\", train_accuracy)\n",
        "print(\"Test Accuracy:\", test_accuracy)"
      ]
    },
    {
      "cell_type": "code",
      "execution_count": 16,
      "metadata": {
        "id": "cRxCNvMO5Yzm"
      },
      "outputs": [
        {
          "name": "stdout",
          "output_type": "stream",
          "text": [
            "Visual results : \n"
          ]
        },
        {
          "data": {
            "image/png": "[encoded data removed]",
            "text/plain": [
              "<Figure size 1000x600 with 10 Axes>"
            ]
          },
          "metadata": {},
          "output_type": "display_data"
        }
      ],
      "source": [
        "print(\"Visual results : \")\n",
        "\n",
        "plt.figure(figsize=(10, 6))\n",
        "for idx in range(0,10):\n",
        "    plt.subplot(2, 5, idx+1)\n",
        "    rand_ind = np.random.randint(0,X_test.shape[0])\n",
        "    test_img = torch.unsqueeze(X_test[rand_ind,:,:,:],axis=1)\n",
        "    predicted_class = vector_to_class(mnist_model(test_img))\n",
        "    plt.imshow(test_img.squeeze(),cmap='gray')\n",
        "    plt.title(mnist_list[int(predicted_class)])"
      ]
    },
    {
      "cell_type": "markdown",
      "metadata": {
        "id": "M5D5BY20W1-m"
      },
      "source": [
        "# Model 2: create a CNN on CIFAR10\n",
        "\n",
        "We are now going to train the same network architecture on a more difficult dataset : CIFAR-10\n",
        "\n",
        "First, we import the CIFAR-10 data and carry out some pre-processing :"
      ]
    },
    {
      "cell_type": "code",
      "execution_count": 17,
      "metadata": {
        "id": "k15abDeRW1-m"
      },
      "outputs": [
        {
          "name": "stdout",
          "output_type": "stream",
          "text": [
            "Files already downloaded and verified\n",
            "Dataset CIFAR10\n",
            "    Number of datapoints: 50000\n",
            "    Root location: ./data\n",
            "    Split: Train\n",
            "    StandardTransform\n",
            "Transform: Compose(\n",
            "               ToTensor()\n",
            "           )\n",
            "Files already downloaded and verified\n"
          ]
        }
      ],
      "source": [
        "# Convert input to Pytorch tensors\n",
        "input_transform=transforms.Compose( [transforms.ToTensor()])\n",
        "\n",
        "# Download CIFAR-10 training data\n",
        "cifar_trainset = datasets.CIFAR10(root='./data',train=True,download=True,transform=input_transform)\n",
        "print(cifar_trainset)\n",
        "\n",
        "# Download test dataset\n",
        "cifar_testset = datasets.CIFAR10(root='./data',train=False,download=True,transform=input_transform)\n",
        "\n",
        "# Create data loader with smaller dataset size\n",
        "max_cifar_size = 5000\n",
        "cifar_trainset_reduced = torch.utils.data.random_split(cifar_trainset, [max_cifar_size, len(cifar_trainset)-max_cifar_size])[0]"
      ]
    },
    {
      "cell_type": "code",
      "execution_count": 18,
      "metadata": {
        "id": "E1fWrMSmR16_"
      },
      "outputs": [
        {
          "name": "stdout",
          "output_type": "stream",
          "text": [
            "3\n"
          ]
        }
      ],
      "source": [
        "# Extract the actual data and labels\n",
        "X_train = torch.from_numpy(cifar_trainset.data[cifar_trainset_reduced.indices]/255.0).float().permute(0,3,1,2)\n",
        "Y_train = torch.tensor(cifar_trainset.targets, dtype=torch.uint8)[cifar_trainset_reduced.indices]\n",
        "X_test = torch.from_numpy(cifar_testset.data/255.0).float().permute(0,3,1,2)\n",
        "Y_test = torch.tensor(cifar_testset.targets, dtype=torch.uint8)\n",
        "\n",
        "nb_channels = X_train.shape[1]\n",
        "print(nb_channels)"
      ]
    },
    {
      "cell_type": "code",
      "execution_count": 19,
      "metadata": {
        "id": "5Al5b-S37T4A"
      },
      "outputs": [],
      "source": [
        "# The CIFAR10 categories\n",
        "cifar_10_list = [ 'airplane', 'automobile','bird','cat','deer','dog','frog','horse','ship','truck']"
      ]
    },
    {
      "cell_type": "markdown",
      "metadata": {
        "id": "WpM3zdF_W1-x"
      },
      "source": [
        "## Display some of the images"
      ]
    },
    {
      "cell_type": "code",
      "execution_count": 20,
      "metadata": {
        "id": "PeFaoz2AW1-y"
      },
      "outputs": [
        {
          "name": "stdout",
          "output_type": "stream",
          "text": [
            "torch.Size([10000, 3, 32, 32])\n",
            "torch.Size([10000, 3, 32, 32])\n",
            "torch.Size([10000, 3, 32, 32])\n",
            "torch.Size([10000, 3, 32, 32])\n",
            "torch.Size([10000, 3, 32, 32])\n",
            "torch.Size([10000, 3, 32, 32])\n",
            "torch.Size([10000, 3, 32, 32])\n",
            "torch.Size([10000, 3, 32, 32])\n",
            "torch.Size([10000, 3, 32, 32])\n",
            "torch.Size([10000, 3, 32, 32])\n"
          ]
        },
        {
          "data": {
            "image/png": "[encoded data removed]",
            "text/plain": [
              "<Figure size 1000x600 with 10 Axes>"
            ]
          },
          "metadata": {},
          "output_type": "display_data"
        }
      ],
      "source": [
        "plt.figure(figsize=(10, 6))\n",
        "for idx in range(0,10):\n",
        "    plt.subplot(2, 5, idx+1)\n",
        "    rand_ind = np.random.randint(0,X_test.shape[0])\n",
        "    print(X_test.shape)\n",
        "    plt.imshow(X_test[rand_ind,:,:,:].permute(1,2,0))\n",
        "    plt.title(cifar_10_list[int(Y_test[rand_ind])])"
      ]
    },
    {
      "cell_type": "markdown",
      "metadata": {
        "id": "XrGI_L3OW1-3"
      },
      "source": [
        "# Define the architecture again, for CIFAR-10\n",
        "\n",
        "In this case, we are going to add a layer because the data is more complex. Therefore, we use the following architecture :\n",
        "\n",
        "    - a Convolutional layer of 32 filters of shape (3,3), with stride (1,1) and padding='same'\n",
        "    - additive biases\n",
        "    - a ReLu activation function\n",
        "    \n",
        "    - a Convolutional layer of 32 filters of shape (3,3), with stride (1,1) and padding='same'\n",
        "    - additive biases\n",
        "    - a ReLu activation function\n",
        "    - a Max Pooling Layer of shape (2,2) and stride (2,2) (i.e. we reduce by two the size in each dimension)\n",
        "    \n",
        "    - a Convolutional layer of 32 filters of shape (3,3), with stride (1,1) and padding='same'\n",
        "    - additive biases\n",
        "    - a ReLu activation function\n",
        "    - a Max Pooling Layer of shape (2,2) and stride (2,2) (i.e. we reduce by two the size in each dimension)\n",
        "\n",
        "    - a Convolutional layer of 32 filters of shape (3,3), with stride (1,1) and padding='same'\n",
        "    - additive biases\n",
        "    - a ReLu activation function\n",
        "    - a Max Pooling Layer of shape (2,2) and stride (2,2) (i.e. we reduce by two the size in each dimension)\n",
        "    \n",
        "    - We then Flatten the data (reduce them to a vector in order to be able to apply a Fully-Connected layer to it)\n",
        "    - Dense (fully connected) layer"
      ]
    },
    {
      "cell_type": "code",
      "execution_count": 50,
      "metadata": {
        "id": "OEs-EnXLW1-4"
      },
      "outputs": [],
      "source": [
        "learning_rate = 0.01\n",
        "n_epochs = 25\n",
        "batch_size = 256\n",
        "nb_classes = 10\n",
        "\n",
        "nb_filters = 32         # number of convolutional filters to use\n",
        "kernel_size = (3, 3)    # convolution kernel size\n",
        "pool_size = (2, 2)      # size of pooling area for max pooling\n",
        "\n",
        "# --- Size of the successive layers\n",
        "n_h_0 = nb_channels\n",
        "n_h_1 = nb_filters\n",
        "n_h_2 = nb_filters\n",
        "n_h_3 = nb_filters"
      ]
    },
    {
      "cell_type": "markdown",
      "metadata": {
        "id": "I0ACZkTFW1-7"
      },
      "source": [
        "Now, modify the previous code (you can copy/paste/modify the necessary parts) to define the model for CIFAR-10."
      ]
    },
    {
      "cell_type": "code",
      "execution_count": 52,
      "metadata": {
        "id": "RmbX6oq0W1-7"
      },
      "outputs": [],
      "source": [
        "# BEGIN STUDENT CODE\n",
        "cifar_model = torch.nn.Sequential(\n",
        "    torch.nn.Conv2d(n_h_0, n_h_1, kernel_size=kernel_size, stride=1, padding=1),\n",
        "    torch.nn.ReLU(),\n",
        "    torch.nn.Conv2d(n_h_1, n_h_2, kernel_size=kernel_size, stride=1, padding=1),\n",
        "    torch.nn.ReLU(),\n",
        "    torch.nn.MaxPool2d(kernel_size=pool_size, stride=2),\n",
        "    torch.nn.Conv2d(n_h_2, n_h_3, kernel_size=kernel_size, stride=1, padding=1),\n",
        "    torch.nn.ReLU(),\n",
        "    torch.nn.MaxPool2d(kernel_size=pool_size, stride=2),\n",
        "    torch.nn.Conv2d(n_h_3, n_h_3, kernel_size=kernel_size, stride=1, padding=1),\n",
        "    torch.nn.ReLU(),\n",
        "    torch.nn.MaxPool2d(kernel_size=pool_size, stride=2),\n",
        "    torch.nn.Flatten(),\n",
        "    torch.nn.Linear(4*4*n_h_3, nb_classes)\n",
        ")\n",
        "\n",
        "cifar_train_loader = torch.utils.data.DataLoader(cifar_trainset_reduced, batch_size=batch_size, shuffle=True)\n",
        "criterion = torch.nn.CrossEntropyLoss()\n",
        "optimizer = torch.optim.Adam(cifar_model.parameters(), lr=learning_rate)\n",
        "# END STUDENT CODE"
      ]
    },
    {
      "cell_type": "markdown",
      "metadata": {
        "id": "KUmQKIEe8_QU"
      },
      "source": [
        "Now, carry out training on the CIFAR-10 dataset (use the previous code as an example)."
      ]
    },
    {
      "cell_type": "code",
      "execution_count": 56,
      "metadata": {
        "id": "pyEwLnLR9gv0"
      },
      "outputs": [
        {
          "name": "stdout",
          "output_type": "stream",
          "text": [
            "Epoch:0 Train Loss:0.0043\n",
            "Accuracy:0.6132\n",
            "Epoch:1 Train Loss:0.0043\n",
            "Accuracy:0.6188\n",
            "Epoch:2 Train Loss:0.0043\n",
            "Accuracy:0.6186\n",
            "Epoch:3 Train Loss:0.0044\n",
            "Accuracy:0.6120\n",
            "Epoch:4 Train Loss:0.0043\n",
            "Accuracy:0.6238\n",
            "Epoch:5 Train Loss:0.0042\n",
            "Accuracy:0.6322\n",
            "Epoch:6 Train Loss:0.0040\n",
            "Accuracy:0.6482\n",
            "Epoch:7 Train Loss:0.0040\n",
            "Accuracy:0.6474\n",
            "Epoch:8 Train Loss:0.0040\n",
            "Accuracy:0.6502\n",
            "Epoch:9 Train Loss:0.0040\n",
            "Accuracy:0.6504\n",
            "Epoch:10 Train Loss:0.0039\n",
            "Accuracy:0.6490\n",
            "Epoch:11 Train Loss:0.0040\n",
            "Accuracy:0.6404\n",
            "Epoch:12 Train Loss:0.0038\n",
            "Accuracy:0.6594\n",
            "Epoch:13 Train Loss:0.0038\n",
            "Accuracy:0.6692\n",
            "Epoch:14 Train Loss:0.0038\n",
            "Accuracy:0.6664\n",
            "Epoch:15 Train Loss:0.0036\n",
            "Accuracy:0.6794\n",
            "Epoch:16 Train Loss:0.0037\n",
            "Accuracy:0.6706\n",
            "Epoch:17 Train Loss:0.0038\n",
            "Accuracy:0.6600\n",
            "Epoch:18 Train Loss:0.0040\n",
            "Accuracy:0.6530\n",
            "Epoch:19 Train Loss:0.0037\n",
            "Accuracy:0.6694\n",
            "Epoch:20 Train Loss:0.0036\n",
            "Accuracy:0.6816\n",
            "Epoch:21 Train Loss:0.0038\n",
            "Accuracy:0.6626\n",
            "Epoch:22 Train Loss:0.0035\n",
            "Accuracy:0.6856\n",
            "Epoch:23 Train Loss:0.0035\n",
            "Accuracy:0.6918\n",
            "Epoch:24 Train Loss:0.0034\n",
            "Accuracy:0.7030\n"
          ]
        }
      ],
      "source": [
        "# BEGIN STUDENT CODE\n",
        "train_losses=[]\n",
        "valid_losses=[]\n",
        "\n",
        "for epoch in range(0,n_epochs):\n",
        "  train_loss=0.0\n",
        "  all_labels = []\n",
        "  all_predicted = []\n",
        "\n",
        "  for batch_idx, (imgs, labels) in enumerate(cifar_train_loader):\n",
        "    # pass the samples through the network\n",
        "    predict = cifar_model(imgs)\n",
        "    # apply loss function\n",
        "    loss = criterion(predict, labels)\n",
        "    # set the gradients back to 0\n",
        "    optimizer.zero_grad()\n",
        "    # backpropagation\n",
        "    loss.backward()\n",
        "    # parameter update\n",
        "    optimizer.step()\n",
        "    # compute the train loss\n",
        "    train_loss += loss.item()\n",
        "    # store labels and class predictions\n",
        "    all_labels.extend(labels.tolist())\n",
        "    all_predicted.extend(predict.argmax(dim=1).tolist())\n",
        "\n",
        "  print('Epoch:{} Train Loss:{:.4f}'.format(epoch,train_loss/len(cifar_train_loader.dataset)))\n",
        "\n",
        "  # calculate accuracy\n",
        "  correct_predictions = (np.array(all_predicted) == np.array(all_labels))\n",
        "  accuracy = np.mean(correct_predictions)\n",
        "  print('Accuracy:{:.4f}'.format(accuracy))\n",
        "# END STUDENT CODE"
      ]
    },
    {
      "cell_type": "markdown",
      "metadata": {
        "id": "18xwDDSTKPap"
      },
      "source": [
        "Print the training and test accuracy (use the previous code as an example):"
      ]
    },
    {
      "cell_type": "code",
      "execution_count": 57,
      "metadata": {
        "id": "a8VvPS8WQ92b"
      },
      "outputs": [
        {
          "name": "stdout",
          "output_type": "stream",
          "text": [
            "Train Accuracy: 0.7242000102996826\n",
            "Test Accuracy: 0.484499990940094\n"
          ]
        }
      ],
      "source": [
        "# Calculate accuracy on the training set and the test set\n",
        "\n",
        "# BEGIN FILL IN STUDENT (use X_train, Y_train, X_test, Y_test)\n",
        "predict_train = cifar_model(X_train).argmax(dim=1)\n",
        "train_accuracy = (predict_train == Y_train).float().mean().item()\n",
        "\n",
        "predict_test = cifar_model(X_test).argmax(dim=1)\n",
        "test_accuracy = (predict_test == Y_test).float().mean().item()\n",
        "# END STUDENT CODE\n",
        "\n",
        "print(\"Train Accuracy:\", train_accuracy)\n",
        "print(\"Test Accuracy:\", test_accuracy)"
      ]
    },
    {
      "cell_type": "markdown",
      "metadata": {
        "id": "afxhSlTZW1_A"
      },
      "source": [
        " What do you think about the results (better or worse than MNIST) ? Why do you think this is ? How could you improve the results ?"
      ]
    },
    {
      "cell_type": "markdown",
      "metadata": {
        "id": "sIvS5eHEW1_A"
      },
      "source": [
        "# Visualising the convolutional weights\n",
        "\n",
        "You can explore the network parameters easily with Pytroch. Indeed, your model ```cifar_model``` is simply a list of layers, thus you can access the first layer with :\n",
        "- ```cifar_model[0]```\n",
        "\n",
        "If you want to find out the contents of this layer, use :\n",
        "\n",
        "```dir(cifar_model[0])```\n",
        "\n",
        "In particular, the convolutional weights are contained in the ```weights``` sub-structure (a multi-dimensional array). Note that this weight's size is :\n",
        "\n",
        "- $[n_{filters}, n_{channels}, y_{size}, x_{size}]$\n",
        "\n",
        "Now, display all (32) trained filters of the first convolutional layer, taking only the first channel of each filter :"
      ]
    },
    {
      "cell_type": "code",
      "execution_count": 55,
      "metadata": {
        "id": "BahI3aUN-3fG"
      },
      "outputs": [
        {
          "data": {
            "image/png": "[encoded data removed]",
            "text/plain": [
              "<Figure size 1000x600 with 32 Axes>"
            ]
          },
          "metadata": {},
          "output_type": "display_data"
        }
      ],
      "source": [
        "\n",
        "plt.figure(figsize=(10, 6))\n",
        "for num in range(0,32):\n",
        "    plt.subplot(8, 4, num+1)\n",
        "    # --- START CODE HERE\n",
        "    filter = cifar_model[0].weight[num, 0].detach().numpy()\n",
        "    plt.imshow(filter, cmap='gray')\n",
        "    # --- END CODE HERE"
      ]
    },
    {
      "cell_type": "markdown",
      "metadata": {
        "id": "zX6yNSiKBXDH"
      },
      "source": [
        "What do you think ? Pretty incomprehensible no ? Do not spend too long trying to interpret these filters, that way madness lies.\n",
        "\n",
        "So, it seems that understanding a CNN by just looking at the filters is an exercise in futility. How can we do better ? Well, take a look at part 2 of the lab !"
      ]
    },
    {
      "cell_type": "markdown",
      "metadata": {
        "id": "LydLzTUNLGYJ"
      },
      "source": [
        "# Evaluation\n",
        "\n",
        "To evaluate the work, you should rate the code for\n",
        "- 1) MNIST : Defining the first model : 3 points\n",
        "- 2) MNIST : Compiling and training the first model : 1 point\n",
        "- 3) CIFAR10 : Defining the second model : 3 points\n",
        "- 4) CIFAR10 : Compiling and training the second model : 1 point\n",
        "- 5) Calculating ```predicted_class``` : 1 point\n",
        "- 6) Correctly visualising the weights : 1 point\n",
        "\n",
        "\n",
        "Total over 10 points. For the questions with three points :\n",
        "- 1 point if partially correct\n",
        "- 2 points if correct code but does not give the expected results. Be careful, sometimes the training might get stuck quickly by bad luck : restart the code a few times to make sure it is indeed a bug.\n",
        "- 3 points for correct code and correct execution"
      ]
    },
    {
      "cell_type": "code",
      "execution_count": null,
      "metadata": {
        "id": "2I_qtxjpxiyZ"
      },
      "outputs": [],
      "source": []
    }
  ],
  "metadata": {
    "accelerator": "GPU",
    "colab": {
      "provenance": []
    },
    "kernelspec": {
      "display_name": "Python 3 (ipykernel)",
      "language": "python",
      "name": "python3"
    },
    "language_info": {
      "codemirror_mode": {
        "name": "ipython",
        "version": 3
      },
      "file_extension": ".py",
      "mimetype": "text/x-python",
      "name": "python",
      "nbconvert_exporter": "python",
      "pygments_lexer": "ipython3",
      "version": "3.12.1"
    }
  },
  "nbformat": 4,
  "nbformat_minor": 0
}
